{
 "cells": [
  {
   "cell_type": "code",
   "execution_count": 1,
   "id": "985f4f20",
   "metadata": {},
   "outputs": [],
   "source": [
    "import numpy as np\n",
    "import pandas as pd\n",
    "import matplotlib.pyplot as plt\n",
    "import seaborn as sns\n",
    "import scipy as s\n",
    "from scipy import stats as ss"
   ]
  },
  {
   "cell_type": "code",
   "execution_count": 2,
   "id": "4a753a29",
   "metadata": {},
   "outputs": [],
   "source": [
    "df = pd.read_csv('contacts.tsv', sep = \"\\t\")"
   ]
  },
  {
   "cell_type": "code",
   "execution_count": 3,
   "id": "f6c25bb6",
   "metadata": {},
   "outputs": [
    {
     "data": {
      "text/html": [
       "<div>\n",
       "<style scoped>\n",
       "    .dataframe tbody tr th:only-of-type {\n",
       "        vertical-align: middle;\n",
       "    }\n",
       "\n",
       "    .dataframe tbody tr th {\n",
       "        vertical-align: top;\n",
       "    }\n",
       "\n",
       "    .dataframe thead th {\n",
       "        text-align: right;\n",
       "    }\n",
       "</style>\n",
       "<table border=\"1\" class=\"dataframe\">\n",
       "  <thead>\n",
       "    <tr style=\"text-align: right;\">\n",
       "      <th></th>\n",
       "      <th>id_guest</th>\n",
       "      <th>id_host</th>\n",
       "      <th>id_listing</th>\n",
       "      <th>ts_contact_at</th>\n",
       "      <th>ts_reply_at</th>\n",
       "      <th>ts_accepted_at</th>\n",
       "      <th>ts_booking_at</th>\n",
       "      <th>ds_checkin</th>\n",
       "      <th>ds_checkout</th>\n",
       "      <th>n_guests</th>\n",
       "      <th>n_messages</th>\n",
       "    </tr>\n",
       "  </thead>\n",
       "  <tbody>\n",
       "    <tr>\n",
       "      <th>0</th>\n",
       "      <td>000dfad9-459b-4f0b-8310-3d6ab34e4f57</td>\n",
       "      <td>13bb24b8-d432-43a2-9755-5ea11b43bb69</td>\n",
       "      <td>21d2b1a2-fdc3-4b4c-a1f0-0eaf0cc02370</td>\n",
       "      <td>2014-10-04 16:26:28.0</td>\n",
       "      <td>2014-10-04 16:26:28.0</td>\n",
       "      <td>2014-10-04 16:26:28.0</td>\n",
       "      <td>2014-10-04 16:26:28.0</td>\n",
       "      <td>2014-10-13</td>\n",
       "      <td>2014-10-15</td>\n",
       "      <td>2</td>\n",
       "      <td>13</td>\n",
       "    </tr>\n",
       "    <tr>\n",
       "      <th>1</th>\n",
       "      <td>00197051-c6cb-4c3a-99e9-86615b819874</td>\n",
       "      <td>46aa3897-9c00-4d76-ac66-a307593d0675</td>\n",
       "      <td>fb5ed09a-9848-4f2c-b2ef-34deb62164fb</td>\n",
       "      <td>2014-11-04 09:10:03.0</td>\n",
       "      <td>2014-11-04 09:45:50.0</td>\n",
       "      <td>2014-11-04 09:45:50.0</td>\n",
       "      <td>2014-11-04 12:20:46.0</td>\n",
       "      <td>2014-11-27</td>\n",
       "      <td>2014-11-30</td>\n",
       "      <td>1</td>\n",
       "      <td>10</td>\n",
       "    </tr>\n",
       "    <tr>\n",
       "      <th>2</th>\n",
       "      <td>0027538e-aa9e-4a02-8979-b8397e5d4cba</td>\n",
       "      <td>6bbb88ca-db66-48c5-9c4b-862f7706284a</td>\n",
       "      <td>d3871da6-8012-4dc4-b508-c91f2c10c297</td>\n",
       "      <td>2014-10-10 12:02:50.0</td>\n",
       "      <td>2014-10-10 15:07:01.0</td>\n",
       "      <td>NaN</td>\n",
       "      <td>NaN</td>\n",
       "      <td>2014-10-17</td>\n",
       "      <td>2014-10-19</td>\n",
       "      <td>2</td>\n",
       "      <td>3</td>\n",
       "    </tr>\n",
       "    <tr>\n",
       "      <th>3</th>\n",
       "      <td>0027538e-aa9e-4a02-8979-b8397e5d4cba</td>\n",
       "      <td>8772bc85-a9b7-4d85-a52d-41f3620c2912</td>\n",
       "      <td>0d9b5583-8053-4b67-adfe-8c29eb12efed</td>\n",
       "      <td>2014-10-10 15:23:53.0</td>\n",
       "      <td>NaN</td>\n",
       "      <td>NaN</td>\n",
       "      <td>NaN</td>\n",
       "      <td>2014-10-17</td>\n",
       "      <td>2014-10-19</td>\n",
       "      <td>2</td>\n",
       "      <td>2</td>\n",
       "    </tr>\n",
       "    <tr>\n",
       "      <th>4</th>\n",
       "      <td>0027538e-aa9e-4a02-8979-b8397e5d4cba</td>\n",
       "      <td>ac162061-55e2-4072-ac91-2e080f9581f2</td>\n",
       "      <td>ec68e0af-b0f2-42c7-b6f8-d41061c083ff</td>\n",
       "      <td>2014-10-10 15:22:26.0</td>\n",
       "      <td>2014-10-10 15:24:26.0</td>\n",
       "      <td>2014-10-10 15:24:26.0</td>\n",
       "      <td>2014-10-10 15:52:42.0</td>\n",
       "      <td>2014-10-17</td>\n",
       "      <td>2014-10-19</td>\n",
       "      <td>2</td>\n",
       "      <td>14</td>\n",
       "    </tr>\n",
       "  </tbody>\n",
       "</table>\n",
       "</div>"
      ],
      "text/plain": [
       "                               id_guest                               id_host  \\\n",
       "0  000dfad9-459b-4f0b-8310-3d6ab34e4f57  13bb24b8-d432-43a2-9755-5ea11b43bb69   \n",
       "1  00197051-c6cb-4c3a-99e9-86615b819874  46aa3897-9c00-4d76-ac66-a307593d0675   \n",
       "2  0027538e-aa9e-4a02-8979-b8397e5d4cba  6bbb88ca-db66-48c5-9c4b-862f7706284a   \n",
       "3  0027538e-aa9e-4a02-8979-b8397e5d4cba  8772bc85-a9b7-4d85-a52d-41f3620c2912   \n",
       "4  0027538e-aa9e-4a02-8979-b8397e5d4cba  ac162061-55e2-4072-ac91-2e080f9581f2   \n",
       "\n",
       "                             id_listing          ts_contact_at  \\\n",
       "0  21d2b1a2-fdc3-4b4c-a1f0-0eaf0cc02370  2014-10-04 16:26:28.0   \n",
       "1  fb5ed09a-9848-4f2c-b2ef-34deb62164fb  2014-11-04 09:10:03.0   \n",
       "2  d3871da6-8012-4dc4-b508-c91f2c10c297  2014-10-10 12:02:50.0   \n",
       "3  0d9b5583-8053-4b67-adfe-8c29eb12efed  2014-10-10 15:23:53.0   \n",
       "4  ec68e0af-b0f2-42c7-b6f8-d41061c083ff  2014-10-10 15:22:26.0   \n",
       "\n",
       "             ts_reply_at         ts_accepted_at          ts_booking_at  \\\n",
       "0  2014-10-04 16:26:28.0  2014-10-04 16:26:28.0  2014-10-04 16:26:28.0   \n",
       "1  2014-11-04 09:45:50.0  2014-11-04 09:45:50.0  2014-11-04 12:20:46.0   \n",
       "2  2014-10-10 15:07:01.0                    NaN                    NaN   \n",
       "3                    NaN                    NaN                    NaN   \n",
       "4  2014-10-10 15:24:26.0  2014-10-10 15:24:26.0  2014-10-10 15:52:42.0   \n",
       "\n",
       "   ds_checkin ds_checkout  n_guests  n_messages  \n",
       "0  2014-10-13  2014-10-15         2          13  \n",
       "1  2014-11-27  2014-11-30         1          10  \n",
       "2  2014-10-17  2014-10-19         2           3  \n",
       "3  2014-10-17  2014-10-19         2           2  \n",
       "4  2014-10-17  2014-10-19         2          14  "
      ]
     },
     "execution_count": 3,
     "metadata": {},
     "output_type": "execute_result"
    }
   ],
   "source": [
    "df.head()"
   ]
  },
  {
   "cell_type": "code",
   "execution_count": 4,
   "id": "1c3dfedd",
   "metadata": {},
   "outputs": [
    {
     "name": "stdout",
     "output_type": "stream",
     "text": [
      "<class 'pandas.core.frame.DataFrame'>\n",
      "RangeIndex: 7823 entries, 0 to 7822\n",
      "Data columns (total 11 columns):\n",
      " #   Column          Non-Null Count  Dtype \n",
      "---  ------          --------------  ----- \n",
      " 0   id_guest        7823 non-null   object\n",
      " 1   id_host         7823 non-null   object\n",
      " 2   id_listing      7823 non-null   object\n",
      " 3   ts_contact_at   7823 non-null   object\n",
      " 4   ts_reply_at     7219 non-null   object\n",
      " 5   ts_accepted_at  3627 non-null   object\n",
      " 6   ts_booking_at   2174 non-null   object\n",
      " 7   ds_checkin      7823 non-null   object\n",
      " 8   ds_checkout     7823 non-null   object\n",
      " 9   n_guests        7823 non-null   int64 \n",
      " 10  n_messages      7823 non-null   int64 \n",
      "dtypes: int64(2), object(9)\n",
      "memory usage: 672.4+ KB\n"
     ]
    }
   ],
   "source": [
    "df.info()"
   ]
  },
  {
   "cell_type": "code",
   "execution_count": 5,
   "id": "6c961522",
   "metadata": {},
   "outputs": [],
   "source": [
    "df['ts_accepted_at'].fillna('NaT', inplace = True)"
   ]
  },
  {
   "cell_type": "code",
   "execution_count": 6,
   "id": "eb91e205",
   "metadata": {},
   "outputs": [],
   "source": [
    "status = []\n",
    "for i in df.ts_accepted_at:\n",
    "    if i == \"NaT\":\n",
    "        status.append('Rejected')\n",
    "    else:\n",
    "        status.append('Accepted')"
   ]
  },
  {
   "cell_type": "code",
   "execution_count": 7,
   "id": "96ae784a",
   "metadata": {},
   "outputs": [],
   "source": [
    "df['status'] = status"
   ]
  },
  {
   "cell_type": "code",
   "execution_count": 8,
   "id": "522ac650",
   "metadata": {},
   "outputs": [],
   "source": [
    "to_upper = ['id_guest','id_host','id_listing']"
   ]
  },
  {
   "cell_type": "code",
   "execution_count": 9,
   "id": "d669333b",
   "metadata": {},
   "outputs": [],
   "source": [
    "for i in to_upper:\n",
    "    df[i] = df[i].str.upper()"
   ]
  },
  {
   "cell_type": "code",
   "execution_count": 10,
   "id": "8f286eb8",
   "metadata": {},
   "outputs": [],
   "source": [
    "to_datetime = ['ts_contact_at','ts_reply_at','ts_accepted_at','ts_booking_at','ds_checkin','ds_checkout']"
   ]
  },
  {
   "cell_type": "code",
   "execution_count": 11,
   "id": "0b3e7c32",
   "metadata": {},
   "outputs": [],
   "source": [
    "for i in to_datetime:\n",
    "    df[i] = pd.to_datetime(df[i])"
   ]
  },
  {
   "cell_type": "code",
   "execution_count": 12,
   "id": "e3873ce6",
   "metadata": {},
   "outputs": [
    {
     "name": "stdout",
     "output_type": "stream",
     "text": [
      "<class 'pandas.core.frame.DataFrame'>\n",
      "RangeIndex: 7823 entries, 0 to 7822\n",
      "Data columns (total 12 columns):\n",
      " #   Column          Non-Null Count  Dtype         \n",
      "---  ------          --------------  -----         \n",
      " 0   id_guest        7823 non-null   object        \n",
      " 1   id_host         7823 non-null   object        \n",
      " 2   id_listing      7823 non-null   object        \n",
      " 3   ts_contact_at   7823 non-null   datetime64[ns]\n",
      " 4   ts_reply_at     7219 non-null   datetime64[ns]\n",
      " 5   ts_accepted_at  3627 non-null   datetime64[ns]\n",
      " 6   ts_booking_at   2174 non-null   datetime64[ns]\n",
      " 7   ds_checkin      7823 non-null   datetime64[ns]\n",
      " 8   ds_checkout     7823 non-null   datetime64[ns]\n",
      " 9   n_guests        7823 non-null   int64         \n",
      " 10  n_messages      7823 non-null   int64         \n",
      " 11  status          7823 non-null   object        \n",
      "dtypes: datetime64[ns](6), int64(2), object(4)\n",
      "memory usage: 733.5+ KB\n"
     ]
    }
   ],
   "source": [
    "df.info()"
   ]
  },
  {
   "cell_type": "code",
   "execution_count": 13,
   "id": "58a3ffae",
   "metadata": {},
   "outputs": [
    {
     "data": {
      "text/html": [
       "<div>\n",
       "<style scoped>\n",
       "    .dataframe tbody tr th:only-of-type {\n",
       "        vertical-align: middle;\n",
       "    }\n",
       "\n",
       "    .dataframe tbody tr th {\n",
       "        vertical-align: top;\n",
       "    }\n",
       "\n",
       "    .dataframe thead th {\n",
       "        text-align: right;\n",
       "    }\n",
       "</style>\n",
       "<table border=\"1\" class=\"dataframe\">\n",
       "  <thead>\n",
       "    <tr style=\"text-align: right;\">\n",
       "      <th></th>\n",
       "      <th>id_guest</th>\n",
       "      <th>id_host</th>\n",
       "      <th>id_listing</th>\n",
       "      <th>ts_contact_at</th>\n",
       "      <th>ts_reply_at</th>\n",
       "      <th>ts_accepted_at</th>\n",
       "      <th>ts_booking_at</th>\n",
       "      <th>ds_checkin</th>\n",
       "      <th>ds_checkout</th>\n",
       "      <th>n_guests</th>\n",
       "      <th>n_messages</th>\n",
       "      <th>status</th>\n",
       "    </tr>\n",
       "  </thead>\n",
       "  <tbody>\n",
       "    <tr>\n",
       "      <th>0</th>\n",
       "      <td>000DFAD9-459B-4F0B-8310-3D6AB34E4F57</td>\n",
       "      <td>13BB24B8-D432-43A2-9755-5EA11B43BB69</td>\n",
       "      <td>21D2B1A2-FDC3-4B4C-A1F0-0EAF0CC02370</td>\n",
       "      <td>2014-10-04 16:26:28</td>\n",
       "      <td>2014-10-04 16:26:28</td>\n",
       "      <td>2014-10-04 16:26:28</td>\n",
       "      <td>2014-10-04 16:26:28</td>\n",
       "      <td>2014-10-13</td>\n",
       "      <td>2014-10-15</td>\n",
       "      <td>2</td>\n",
       "      <td>13</td>\n",
       "      <td>Accepted</td>\n",
       "    </tr>\n",
       "    <tr>\n",
       "      <th>1</th>\n",
       "      <td>00197051-C6CB-4C3A-99E9-86615B819874</td>\n",
       "      <td>46AA3897-9C00-4D76-AC66-A307593D0675</td>\n",
       "      <td>FB5ED09A-9848-4F2C-B2EF-34DEB62164FB</td>\n",
       "      <td>2014-11-04 09:10:03</td>\n",
       "      <td>2014-11-04 09:45:50</td>\n",
       "      <td>2014-11-04 09:45:50</td>\n",
       "      <td>2014-11-04 12:20:46</td>\n",
       "      <td>2014-11-27</td>\n",
       "      <td>2014-11-30</td>\n",
       "      <td>1</td>\n",
       "      <td>10</td>\n",
       "      <td>Accepted</td>\n",
       "    </tr>\n",
       "    <tr>\n",
       "      <th>2</th>\n",
       "      <td>0027538E-AA9E-4A02-8979-B8397E5D4CBA</td>\n",
       "      <td>6BBB88CA-DB66-48C5-9C4B-862F7706284A</td>\n",
       "      <td>D3871DA6-8012-4DC4-B508-C91F2C10C297</td>\n",
       "      <td>2014-10-10 12:02:50</td>\n",
       "      <td>2014-10-10 15:07:01</td>\n",
       "      <td>NaT</td>\n",
       "      <td>NaT</td>\n",
       "      <td>2014-10-17</td>\n",
       "      <td>2014-10-19</td>\n",
       "      <td>2</td>\n",
       "      <td>3</td>\n",
       "      <td>Rejected</td>\n",
       "    </tr>\n",
       "    <tr>\n",
       "      <th>3</th>\n",
       "      <td>0027538E-AA9E-4A02-8979-B8397E5D4CBA</td>\n",
       "      <td>8772BC85-A9B7-4D85-A52D-41F3620C2912</td>\n",
       "      <td>0D9B5583-8053-4B67-ADFE-8C29EB12EFED</td>\n",
       "      <td>2014-10-10 15:23:53</td>\n",
       "      <td>NaT</td>\n",
       "      <td>NaT</td>\n",
       "      <td>NaT</td>\n",
       "      <td>2014-10-17</td>\n",
       "      <td>2014-10-19</td>\n",
       "      <td>2</td>\n",
       "      <td>2</td>\n",
       "      <td>Rejected</td>\n",
       "    </tr>\n",
       "    <tr>\n",
       "      <th>4</th>\n",
       "      <td>0027538E-AA9E-4A02-8979-B8397E5D4CBA</td>\n",
       "      <td>AC162061-55E2-4072-AC91-2E080F9581F2</td>\n",
       "      <td>EC68E0AF-B0F2-42C7-B6F8-D41061C083FF</td>\n",
       "      <td>2014-10-10 15:22:26</td>\n",
       "      <td>2014-10-10 15:24:26</td>\n",
       "      <td>2014-10-10 15:24:26</td>\n",
       "      <td>2014-10-10 15:52:42</td>\n",
       "      <td>2014-10-17</td>\n",
       "      <td>2014-10-19</td>\n",
       "      <td>2</td>\n",
       "      <td>14</td>\n",
       "      <td>Accepted</td>\n",
       "    </tr>\n",
       "  </tbody>\n",
       "</table>\n",
       "</div>"
      ],
      "text/plain": [
       "                               id_guest                               id_host  \\\n",
       "0  000DFAD9-459B-4F0B-8310-3D6AB34E4F57  13BB24B8-D432-43A2-9755-5EA11B43BB69   \n",
       "1  00197051-C6CB-4C3A-99E9-86615B819874  46AA3897-9C00-4D76-AC66-A307593D0675   \n",
       "2  0027538E-AA9E-4A02-8979-B8397E5D4CBA  6BBB88CA-DB66-48C5-9C4B-862F7706284A   \n",
       "3  0027538E-AA9E-4A02-8979-B8397E5D4CBA  8772BC85-A9B7-4D85-A52D-41F3620C2912   \n",
       "4  0027538E-AA9E-4A02-8979-B8397E5D4CBA  AC162061-55E2-4072-AC91-2E080F9581F2   \n",
       "\n",
       "                             id_listing       ts_contact_at  \\\n",
       "0  21D2B1A2-FDC3-4B4C-A1F0-0EAF0CC02370 2014-10-04 16:26:28   \n",
       "1  FB5ED09A-9848-4F2C-B2EF-34DEB62164FB 2014-11-04 09:10:03   \n",
       "2  D3871DA6-8012-4DC4-B508-C91F2C10C297 2014-10-10 12:02:50   \n",
       "3  0D9B5583-8053-4B67-ADFE-8C29EB12EFED 2014-10-10 15:23:53   \n",
       "4  EC68E0AF-B0F2-42C7-B6F8-D41061C083FF 2014-10-10 15:22:26   \n",
       "\n",
       "          ts_reply_at      ts_accepted_at       ts_booking_at ds_checkin  \\\n",
       "0 2014-10-04 16:26:28 2014-10-04 16:26:28 2014-10-04 16:26:28 2014-10-13   \n",
       "1 2014-11-04 09:45:50 2014-11-04 09:45:50 2014-11-04 12:20:46 2014-11-27   \n",
       "2 2014-10-10 15:07:01                 NaT                 NaT 2014-10-17   \n",
       "3                 NaT                 NaT                 NaT 2014-10-17   \n",
       "4 2014-10-10 15:24:26 2014-10-10 15:24:26 2014-10-10 15:52:42 2014-10-17   \n",
       "\n",
       "  ds_checkout  n_guests  n_messages    status  \n",
       "0  2014-10-15         2          13  Accepted  \n",
       "1  2014-11-30         1          10  Accepted  \n",
       "2  2014-10-19         2           3  Rejected  \n",
       "3  2014-10-19         2           2  Rejected  \n",
       "4  2014-10-19         2          14  Accepted  "
      ]
     },
     "execution_count": 13,
     "metadata": {},
     "output_type": "execute_result"
    }
   ],
   "source": [
    "df.head()"
   ]
  },
  {
   "cell_type": "code",
   "execution_count": 14,
   "id": "64e01b5e",
   "metadata": {},
   "outputs": [],
   "source": [
    "to_datetime = ['ts_contact_at','ts_reply_at','ts_accepted_at','ts_booking_at','ds_checkin','ds_checkout']"
   ]
  },
  {
   "cell_type": "code",
   "execution_count": 15,
   "id": "85bfa332",
   "metadata": {},
   "outputs": [],
   "source": [
    "for i in to_datetime:\n",
    "    df[i] = pd.to_datetime(df[i])"
   ]
  },
  {
   "cell_type": "code",
   "execution_count": 16,
   "id": "602f5e8a",
   "metadata": {},
   "outputs": [
    {
     "name": "stdout",
     "output_type": "stream",
     "text": [
      "<class 'pandas.core.frame.DataFrame'>\n",
      "RangeIndex: 7823 entries, 0 to 7822\n",
      "Data columns (total 12 columns):\n",
      " #   Column          Non-Null Count  Dtype         \n",
      "---  ------          --------------  -----         \n",
      " 0   id_guest        7823 non-null   object        \n",
      " 1   id_host         7823 non-null   object        \n",
      " 2   id_listing      7823 non-null   object        \n",
      " 3   ts_contact_at   7823 non-null   datetime64[ns]\n",
      " 4   ts_reply_at     7219 non-null   datetime64[ns]\n",
      " 5   ts_accepted_at  3627 non-null   datetime64[ns]\n",
      " 6   ts_booking_at   2174 non-null   datetime64[ns]\n",
      " 7   ds_checkin      7823 non-null   datetime64[ns]\n",
      " 8   ds_checkout     7823 non-null   datetime64[ns]\n",
      " 9   n_guests        7823 non-null   int64         \n",
      " 10  n_messages      7823 non-null   int64         \n",
      " 11  status          7823 non-null   object        \n",
      "dtypes: datetime64[ns](6), int64(2), object(4)\n",
      "memory usage: 733.5+ KB\n"
     ]
    }
   ],
   "source": [
    "df.info()"
   ]
  },
  {
   "cell_type": "code",
   "execution_count": 17,
   "id": "5332b55e",
   "metadata": {},
   "outputs": [],
   "source": [
    "df_status_msg = df.pivot_table(index = 'id_host' , columns = 'status' , values = 'n_messages' , aggfunc = 'sum').reset_index()"
   ]
  },
  {
   "cell_type": "code",
   "execution_count": 18,
   "id": "cf0e4b11",
   "metadata": {},
   "outputs": [],
   "source": [
    "accepted_msg = df_status_msg[['id_host','Accepted']].sort_values(by = 'Accepted',ascending = False).head()"
   ]
  },
  {
   "cell_type": "code",
   "execution_count": 19,
   "id": "1e38b515",
   "metadata": {},
   "outputs": [],
   "source": [
    "rejected_msg = df_status_msg[['id_host','Rejected']].sort_values(by = 'Rejected',ascending = False).head()"
   ]
  },
  {
   "cell_type": "code",
   "execution_count": 20,
   "id": "5414b13b",
   "metadata": {},
   "outputs": [
    {
     "data": {
      "image/png": "[encoded data removed]",
      "text/plain": [
       "<Figure size 640x480 with 2 Axes>"
      ]
     },
     "metadata": {},
     "output_type": "display_data"
    }
   ],
   "source": [
    "x = accepted_msg['id_host']\n",
    "y = accepted_msg['Accepted']\n",
    "plt.subplot(1,2,1)\n",
    "plt.bar(x,y)\n",
    "plt.xticks(rotation = 90)\n",
    "plt.xlabel('Host_id')\n",
    "plt.ylabel('Number of Messages')\n",
    "plt.title('Booking Accepted')\n",
    "x = rejected_msg['id_host']\n",
    "y = rejected_msg['Rejected']\n",
    "plt.subplot(1,2,2)\n",
    "plt.bar(x,y)\n",
    "plt.xticks(rotation = 90)\n",
    "plt.xlabel('Host_id')\n",
    "plt.title('Booking Rejected')\n",
    "plt.show()"
   ]
  },
  {
   "cell_type": "markdown",
   "id": "0a680fd1",
   "metadata": {},
   "source": [
    "Top 5 Most Messeged Dublin Hosts & Their Booking Acceptance Rate."
   ]
  },
  {
   "cell_type": "code",
   "execution_count": 21,
   "id": "a67eb9ab",
   "metadata": {},
   "outputs": [],
   "source": [
    "df['Time_taken_rply'] = df['ts_reply_at'] - df['ts_contact_at']"
   ]
  },
  {
   "cell_type": "code",
   "execution_count": 22,
   "id": "917084cd",
   "metadata": {},
   "outputs": [],
   "source": [
    "Time_taken_rply = []\n",
    "for i in range(len(df)):\n",
    "    try:\n",
    "        Time_taken_rply.append(abs(df['Time_taken_rply'][i]).total_seconds() / 3600)\n",
    "    except Exception:\n",
    "        Time_taken_rply.append(np.nan)"
   ]
  },
  {
   "cell_type": "code",
   "execution_count": 23,
   "id": "24e0bd6e",
   "metadata": {},
   "outputs": [],
   "source": [
    "df['Time_taken_rply'] = Time_taken_rply"
   ]
  },
  {
   "cell_type": "code",
   "execution_count": 24,
   "id": "bbab6973",
   "metadata": {},
   "outputs": [
    {
     "data": {
      "text/html": [
       "<div>\n",
       "<style scoped>\n",
       "    .dataframe tbody tr th:only-of-type {\n",
       "        vertical-align: middle;\n",
       "    }\n",
       "\n",
       "    .dataframe tbody tr th {\n",
       "        vertical-align: top;\n",
       "    }\n",
       "\n",
       "    .dataframe thead th {\n",
       "        text-align: right;\n",
       "    }\n",
       "</style>\n",
       "<table border=\"1\" class=\"dataframe\">\n",
       "  <thead>\n",
       "    <tr style=\"text-align: right;\">\n",
       "      <th></th>\n",
       "      <th>id_guest</th>\n",
       "      <th>id_host</th>\n",
       "      <th>id_listing</th>\n",
       "      <th>ts_contact_at</th>\n",
       "      <th>ts_reply_at</th>\n",
       "      <th>ts_accepted_at</th>\n",
       "      <th>ts_booking_at</th>\n",
       "      <th>ds_checkin</th>\n",
       "      <th>ds_checkout</th>\n",
       "      <th>n_guests</th>\n",
       "      <th>n_messages</th>\n",
       "      <th>status</th>\n",
       "      <th>Time_taken_rply</th>\n",
       "    </tr>\n",
       "  </thead>\n",
       "  <tbody>\n",
       "    <tr>\n",
       "      <th>0</th>\n",
       "      <td>000DFAD9-459B-4F0B-8310-3D6AB34E4F57</td>\n",
       "      <td>13BB24B8-D432-43A2-9755-5EA11B43BB69</td>\n",
       "      <td>21D2B1A2-FDC3-4B4C-A1F0-0EAF0CC02370</td>\n",
       "      <td>2014-10-04 16:26:28</td>\n",
       "      <td>2014-10-04 16:26:28</td>\n",
       "      <td>2014-10-04 16:26:28</td>\n",
       "      <td>2014-10-04 16:26:28</td>\n",
       "      <td>2014-10-13</td>\n",
       "      <td>2014-10-15</td>\n",
       "      <td>2</td>\n",
       "      <td>13</td>\n",
       "      <td>Accepted</td>\n",
       "      <td>0.000000</td>\n",
       "    </tr>\n",
       "    <tr>\n",
       "      <th>1</th>\n",
       "      <td>00197051-C6CB-4C3A-99E9-86615B819874</td>\n",
       "      <td>46AA3897-9C00-4D76-AC66-A307593D0675</td>\n",
       "      <td>FB5ED09A-9848-4F2C-B2EF-34DEB62164FB</td>\n",
       "      <td>2014-11-04 09:10:03</td>\n",
       "      <td>2014-11-04 09:45:50</td>\n",
       "      <td>2014-11-04 09:45:50</td>\n",
       "      <td>2014-11-04 12:20:46</td>\n",
       "      <td>2014-11-27</td>\n",
       "      <td>2014-11-30</td>\n",
       "      <td>1</td>\n",
       "      <td>10</td>\n",
       "      <td>Accepted</td>\n",
       "      <td>0.596389</td>\n",
       "    </tr>\n",
       "    <tr>\n",
       "      <th>2</th>\n",
       "      <td>0027538E-AA9E-4A02-8979-B8397E5D4CBA</td>\n",
       "      <td>6BBB88CA-DB66-48C5-9C4B-862F7706284A</td>\n",
       "      <td>D3871DA6-8012-4DC4-B508-C91F2C10C297</td>\n",
       "      <td>2014-10-10 12:02:50</td>\n",
       "      <td>2014-10-10 15:07:01</td>\n",
       "      <td>NaT</td>\n",
       "      <td>NaT</td>\n",
       "      <td>2014-10-17</td>\n",
       "      <td>2014-10-19</td>\n",
       "      <td>2</td>\n",
       "      <td>3</td>\n",
       "      <td>Rejected</td>\n",
       "      <td>3.069722</td>\n",
       "    </tr>\n",
       "    <tr>\n",
       "      <th>3</th>\n",
       "      <td>0027538E-AA9E-4A02-8979-B8397E5D4CBA</td>\n",
       "      <td>8772BC85-A9B7-4D85-A52D-41F3620C2912</td>\n",
       "      <td>0D9B5583-8053-4B67-ADFE-8C29EB12EFED</td>\n",
       "      <td>2014-10-10 15:23:53</td>\n",
       "      <td>NaT</td>\n",
       "      <td>NaT</td>\n",
       "      <td>NaT</td>\n",
       "      <td>2014-10-17</td>\n",
       "      <td>2014-10-19</td>\n",
       "      <td>2</td>\n",
       "      <td>2</td>\n",
       "      <td>Rejected</td>\n",
       "      <td>NaN</td>\n",
       "    </tr>\n",
       "    <tr>\n",
       "      <th>4</th>\n",
       "      <td>0027538E-AA9E-4A02-8979-B8397E5D4CBA</td>\n",
       "      <td>AC162061-55E2-4072-AC91-2E080F9581F2</td>\n",
       "      <td>EC68E0AF-B0F2-42C7-B6F8-D41061C083FF</td>\n",
       "      <td>2014-10-10 15:22:26</td>\n",
       "      <td>2014-10-10 15:24:26</td>\n",
       "      <td>2014-10-10 15:24:26</td>\n",
       "      <td>2014-10-10 15:52:42</td>\n",
       "      <td>2014-10-17</td>\n",
       "      <td>2014-10-19</td>\n",
       "      <td>2</td>\n",
       "      <td>14</td>\n",
       "      <td>Accepted</td>\n",
       "      <td>0.033333</td>\n",
       "    </tr>\n",
       "  </tbody>\n",
       "</table>\n",
       "</div>"
      ],
      "text/plain": [
       "                               id_guest                               id_host  \\\n",
       "0  000DFAD9-459B-4F0B-8310-3D6AB34E4F57  13BB24B8-D432-43A2-9755-5EA11B43BB69   \n",
       "1  00197051-C6CB-4C3A-99E9-86615B819874  46AA3897-9C00-4D76-AC66-A307593D0675   \n",
       "2  0027538E-AA9E-4A02-8979-B8397E5D4CBA  6BBB88CA-DB66-48C5-9C4B-862F7706284A   \n",
       "3  0027538E-AA9E-4A02-8979-B8397E5D4CBA  8772BC85-A9B7-4D85-A52D-41F3620C2912   \n",
       "4  0027538E-AA9E-4A02-8979-B8397E5D4CBA  AC162061-55E2-4072-AC91-2E080F9581F2   \n",
       "\n",
       "                             id_listing       ts_contact_at  \\\n",
       "0  21D2B1A2-FDC3-4B4C-A1F0-0EAF0CC02370 2014-10-04 16:26:28   \n",
       "1  FB5ED09A-9848-4F2C-B2EF-34DEB62164FB 2014-11-04 09:10:03   \n",
       "2  D3871DA6-8012-4DC4-B508-C91F2C10C297 2014-10-10 12:02:50   \n",
       "3  0D9B5583-8053-4B67-ADFE-8C29EB12EFED 2014-10-10 15:23:53   \n",
       "4  EC68E0AF-B0F2-42C7-B6F8-D41061C083FF 2014-10-10 15:22:26   \n",
       "\n",
       "          ts_reply_at      ts_accepted_at       ts_booking_at ds_checkin  \\\n",
       "0 2014-10-04 16:26:28 2014-10-04 16:26:28 2014-10-04 16:26:28 2014-10-13   \n",
       "1 2014-11-04 09:45:50 2014-11-04 09:45:50 2014-11-04 12:20:46 2014-11-27   \n",
       "2 2014-10-10 15:07:01                 NaT                 NaT 2014-10-17   \n",
       "3                 NaT                 NaT                 NaT 2014-10-17   \n",
       "4 2014-10-10 15:24:26 2014-10-10 15:24:26 2014-10-10 15:52:42 2014-10-17   \n",
       "\n",
       "  ds_checkout  n_guests  n_messages    status  Time_taken_rply  \n",
       "0  2014-10-15         2          13  Accepted         0.000000  \n",
       "1  2014-11-30         1          10  Accepted         0.596389  \n",
       "2  2014-10-19         2           3  Rejected         3.069722  \n",
       "3  2014-10-19         2           2  Rejected              NaN  \n",
       "4  2014-10-19         2          14  Accepted         0.033333  "
      ]
     },
     "execution_count": 24,
     "metadata": {},
     "output_type": "execute_result"
    }
   ],
   "source": [
    "df.head()"
   ]
  },
  {
   "cell_type": "code",
   "execution_count": 25,
   "id": "ac7e432b",
   "metadata": {},
   "outputs": [],
   "source": [
    "avg_to_rply = df.groupby('status')[['Time_taken_rply']].mean(numeric_only = True).reset_index()"
   ]
  },
  {
   "cell_type": "code",
   "execution_count": 26,
   "id": "3cc9670b",
   "metadata": {},
   "outputs": [
    {
     "data": {
      "text/html": [
       "<div>\n",
       "<style scoped>\n",
       "    .dataframe tbody tr th:only-of-type {\n",
       "        vertical-align: middle;\n",
       "    }\n",
       "\n",
       "    .dataframe tbody tr th {\n",
       "        vertical-align: top;\n",
       "    }\n",
       "\n",
       "    .dataframe thead th {\n",
       "        text-align: right;\n",
       "    }\n",
       "</style>\n",
       "<table border=\"1\" class=\"dataframe\">\n",
       "  <thead>\n",
       "    <tr style=\"text-align: right;\">\n",
       "      <th></th>\n",
       "      <th>status</th>\n",
       "      <th>Time_taken_rply</th>\n",
       "    </tr>\n",
       "  </thead>\n",
       "  <tbody>\n",
       "    <tr>\n",
       "      <th>0</th>\n",
       "      <td>Accepted</td>\n",
       "      <td>5.265618</td>\n",
       "    </tr>\n",
       "    <tr>\n",
       "      <th>1</th>\n",
       "      <td>Rejected</td>\n",
       "      <td>14.086058</td>\n",
       "    </tr>\n",
       "  </tbody>\n",
       "</table>\n",
       "</div>"
      ],
      "text/plain": [
       "     status  Time_taken_rply\n",
       "0  Accepted         5.265618\n",
       "1  Rejected        14.086058"
      ]
     },
     "execution_count": 26,
     "metadata": {},
     "output_type": "execute_result"
    }
   ],
   "source": [
    "avg_to_rply"
   ]
  },
  {
   "cell_type": "code",
   "execution_count": 27,
   "id": "cfd9dcd1",
   "metadata": {},
   "outputs": [
    {
     "data": {
      "image/png": "[encoded data removed]",
      "text/plain": [
       "<Figure size 640x480 with 1 Axes>"
      ]
     },
     "metadata": {},
     "output_type": "display_data"
    }
   ],
   "source": [
    "x = avg_to_rply['status']\n",
    "y = avg_to_rply['Time_taken_rply']\n",
    "plt.bar(x,y)\n",
    "plt.ylabel('Avg. Hours Taken for Reply Guesst')\n",
    "plt.show()"
   ]
  },
  {
   "cell_type": "markdown",
   "id": "3681fe65",
   "metadata": {},
   "source": [
    "Hosts take on average 5 hrs. to accpect the booking and take on average 14 hrs. to reject the booking."
   ]
  },
  {
   "cell_type": "code",
   "execution_count": 28,
   "id": "39f32b86",
   "metadata": {},
   "outputs": [],
   "source": [
    "no_of_days = []\n",
    "for i in range(len(df)):\n",
    "    no_of_days.append(abs(df['ds_checkout'][i] - df['ds_checkin'][i]).total_seconds() / (3600*24))"
   ]
  },
  {
   "cell_type": "code",
   "execution_count": 29,
   "id": "252f925a",
   "metadata": {},
   "outputs": [],
   "source": [
    "df['No_of_days'] = no_of_days"
   ]
  },
  {
   "cell_type": "code",
   "execution_count": 30,
   "id": "1592e948",
   "metadata": {},
   "outputs": [
    {
     "data": {
      "text/html": [
       "<div>\n",
       "<style scoped>\n",
       "    .dataframe tbody tr th:only-of-type {\n",
       "        vertical-align: middle;\n",
       "    }\n",
       "\n",
       "    .dataframe tbody tr th {\n",
       "        vertical-align: top;\n",
       "    }\n",
       "\n",
       "    .dataframe thead th {\n",
       "        text-align: right;\n",
       "    }\n",
       "</style>\n",
       "<table border=\"1\" class=\"dataframe\">\n",
       "  <thead>\n",
       "    <tr style=\"text-align: right;\">\n",
       "      <th></th>\n",
       "      <th>id_guest</th>\n",
       "      <th>id_host</th>\n",
       "      <th>id_listing</th>\n",
       "      <th>ts_contact_at</th>\n",
       "      <th>ts_reply_at</th>\n",
       "      <th>ts_accepted_at</th>\n",
       "      <th>ts_booking_at</th>\n",
       "      <th>ds_checkin</th>\n",
       "      <th>ds_checkout</th>\n",
       "      <th>n_guests</th>\n",
       "      <th>n_messages</th>\n",
       "      <th>status</th>\n",
       "      <th>Time_taken_rply</th>\n",
       "      <th>No_of_days</th>\n",
       "    </tr>\n",
       "  </thead>\n",
       "  <tbody>\n",
       "    <tr>\n",
       "      <th>0</th>\n",
       "      <td>000DFAD9-459B-4F0B-8310-3D6AB34E4F57</td>\n",
       "      <td>13BB24B8-D432-43A2-9755-5EA11B43BB69</td>\n",
       "      <td>21D2B1A2-FDC3-4B4C-A1F0-0EAF0CC02370</td>\n",
       "      <td>2014-10-04 16:26:28</td>\n",
       "      <td>2014-10-04 16:26:28</td>\n",
       "      <td>2014-10-04 16:26:28</td>\n",
       "      <td>2014-10-04 16:26:28</td>\n",
       "      <td>2014-10-13</td>\n",
       "      <td>2014-10-15</td>\n",
       "      <td>2</td>\n",
       "      <td>13</td>\n",
       "      <td>Accepted</td>\n",
       "      <td>0.000000</td>\n",
       "      <td>2.0</td>\n",
       "    </tr>\n",
       "    <tr>\n",
       "      <th>1</th>\n",
       "      <td>00197051-C6CB-4C3A-99E9-86615B819874</td>\n",
       "      <td>46AA3897-9C00-4D76-AC66-A307593D0675</td>\n",
       "      <td>FB5ED09A-9848-4F2C-B2EF-34DEB62164FB</td>\n",
       "      <td>2014-11-04 09:10:03</td>\n",
       "      <td>2014-11-04 09:45:50</td>\n",
       "      <td>2014-11-04 09:45:50</td>\n",
       "      <td>2014-11-04 12:20:46</td>\n",
       "      <td>2014-11-27</td>\n",
       "      <td>2014-11-30</td>\n",
       "      <td>1</td>\n",
       "      <td>10</td>\n",
       "      <td>Accepted</td>\n",
       "      <td>0.596389</td>\n",
       "      <td>3.0</td>\n",
       "    </tr>\n",
       "    <tr>\n",
       "      <th>2</th>\n",
       "      <td>0027538E-AA9E-4A02-8979-B8397E5D4CBA</td>\n",
       "      <td>6BBB88CA-DB66-48C5-9C4B-862F7706284A</td>\n",
       "      <td>D3871DA6-8012-4DC4-B508-C91F2C10C297</td>\n",
       "      <td>2014-10-10 12:02:50</td>\n",
       "      <td>2014-10-10 15:07:01</td>\n",
       "      <td>NaT</td>\n",
       "      <td>NaT</td>\n",
       "      <td>2014-10-17</td>\n",
       "      <td>2014-10-19</td>\n",
       "      <td>2</td>\n",
       "      <td>3</td>\n",
       "      <td>Rejected</td>\n",
       "      <td>3.069722</td>\n",
       "      <td>2.0</td>\n",
       "    </tr>\n",
       "    <tr>\n",
       "      <th>3</th>\n",
       "      <td>0027538E-AA9E-4A02-8979-B8397E5D4CBA</td>\n",
       "      <td>8772BC85-A9B7-4D85-A52D-41F3620C2912</td>\n",
       "      <td>0D9B5583-8053-4B67-ADFE-8C29EB12EFED</td>\n",
       "      <td>2014-10-10 15:23:53</td>\n",
       "      <td>NaT</td>\n",
       "      <td>NaT</td>\n",
       "      <td>NaT</td>\n",
       "      <td>2014-10-17</td>\n",
       "      <td>2014-10-19</td>\n",
       "      <td>2</td>\n",
       "      <td>2</td>\n",
       "      <td>Rejected</td>\n",
       "      <td>NaN</td>\n",
       "      <td>2.0</td>\n",
       "    </tr>\n",
       "    <tr>\n",
       "      <th>4</th>\n",
       "      <td>0027538E-AA9E-4A02-8979-B8397E5D4CBA</td>\n",
       "      <td>AC162061-55E2-4072-AC91-2E080F9581F2</td>\n",
       "      <td>EC68E0AF-B0F2-42C7-B6F8-D41061C083FF</td>\n",
       "      <td>2014-10-10 15:22:26</td>\n",
       "      <td>2014-10-10 15:24:26</td>\n",
       "      <td>2014-10-10 15:24:26</td>\n",
       "      <td>2014-10-10 15:52:42</td>\n",
       "      <td>2014-10-17</td>\n",
       "      <td>2014-10-19</td>\n",
       "      <td>2</td>\n",
       "      <td>14</td>\n",
       "      <td>Accepted</td>\n",
       "      <td>0.033333</td>\n",
       "      <td>2.0</td>\n",
       "    </tr>\n",
       "  </tbody>\n",
       "</table>\n",
       "</div>"
      ],
      "text/plain": [
       "                               id_guest                               id_host  \\\n",
       "0  000DFAD9-459B-4F0B-8310-3D6AB34E4F57  13BB24B8-D432-43A2-9755-5EA11B43BB69   \n",
       "1  00197051-C6CB-4C3A-99E9-86615B819874  46AA3897-9C00-4D76-AC66-A307593D0675   \n",
       "2  0027538E-AA9E-4A02-8979-B8397E5D4CBA  6BBB88CA-DB66-48C5-9C4B-862F7706284A   \n",
       "3  0027538E-AA9E-4A02-8979-B8397E5D4CBA  8772BC85-A9B7-4D85-A52D-41F3620C2912   \n",
       "4  0027538E-AA9E-4A02-8979-B8397E5D4CBA  AC162061-55E2-4072-AC91-2E080F9581F2   \n",
       "\n",
       "                             id_listing       ts_contact_at  \\\n",
       "0  21D2B1A2-FDC3-4B4C-A1F0-0EAF0CC02370 2014-10-04 16:26:28   \n",
       "1  FB5ED09A-9848-4F2C-B2EF-34DEB62164FB 2014-11-04 09:10:03   \n",
       "2  D3871DA6-8012-4DC4-B508-C91F2C10C297 2014-10-10 12:02:50   \n",
       "3  0D9B5583-8053-4B67-ADFE-8C29EB12EFED 2014-10-10 15:23:53   \n",
       "4  EC68E0AF-B0F2-42C7-B6F8-D41061C083FF 2014-10-10 15:22:26   \n",
       "\n",
       "          ts_reply_at      ts_accepted_at       ts_booking_at ds_checkin  \\\n",
       "0 2014-10-04 16:26:28 2014-10-04 16:26:28 2014-10-04 16:26:28 2014-10-13   \n",
       "1 2014-11-04 09:45:50 2014-11-04 09:45:50 2014-11-04 12:20:46 2014-11-27   \n",
       "2 2014-10-10 15:07:01                 NaT                 NaT 2014-10-17   \n",
       "3                 NaT                 NaT                 NaT 2014-10-17   \n",
       "4 2014-10-10 15:24:26 2014-10-10 15:24:26 2014-10-10 15:52:42 2014-10-17   \n",
       "\n",
       "  ds_checkout  n_guests  n_messages    status  Time_taken_rply  No_of_days  \n",
       "0  2014-10-15         2          13  Accepted         0.000000         2.0  \n",
       "1  2014-11-30         1          10  Accepted         0.596389         3.0  \n",
       "2  2014-10-19         2           3  Rejected         3.069722         2.0  \n",
       "3  2014-10-19         2           2  Rejected              NaN         2.0  \n",
       "4  2014-10-19         2          14  Accepted         0.033333         2.0  "
      ]
     },
     "execution_count": 30,
     "metadata": {},
     "output_type": "execute_result"
    }
   ],
   "source": [
    "df.head()"
   ]
  },
  {
   "cell_type": "code",
   "execution_count": 31,
   "id": "24f483f8",
   "metadata": {},
   "outputs": [],
   "source": [
    "avg_days = df.groupby('status')[['No_of_days']].mean().reset_index()"
   ]
  },
  {
   "cell_type": "code",
   "execution_count": 32,
   "id": "13f63f16",
   "metadata": {},
   "outputs": [
    {
     "data": {
      "text/html": [
       "<div>\n",
       "<style scoped>\n",
       "    .dataframe tbody tr th:only-of-type {\n",
       "        vertical-align: middle;\n",
       "    }\n",
       "\n",
       "    .dataframe tbody tr th {\n",
       "        vertical-align: top;\n",
       "    }\n",
       "\n",
       "    .dataframe thead th {\n",
       "        text-align: right;\n",
       "    }\n",
       "</style>\n",
       "<table border=\"1\" class=\"dataframe\">\n",
       "  <thead>\n",
       "    <tr style=\"text-align: right;\">\n",
       "      <th></th>\n",
       "      <th>status</th>\n",
       "      <th>No_of_days</th>\n",
       "    </tr>\n",
       "  </thead>\n",
       "  <tbody>\n",
       "    <tr>\n",
       "      <th>0</th>\n",
       "      <td>Accepted</td>\n",
       "      <td>5.031982</td>\n",
       "    </tr>\n",
       "    <tr>\n",
       "      <th>1</th>\n",
       "      <td>Rejected</td>\n",
       "      <td>6.481411</td>\n",
       "    </tr>\n",
       "  </tbody>\n",
       "</table>\n",
       "</div>"
      ],
      "text/plain": [
       "     status  No_of_days\n",
       "0  Accepted    5.031982\n",
       "1  Rejected    6.481411"
      ]
     },
     "execution_count": 32,
     "metadata": {},
     "output_type": "execute_result"
    }
   ],
   "source": [
    "avg_days"
   ]
  },
  {
   "cell_type": "code",
   "execution_count": 33,
   "id": "06827dce",
   "metadata": {},
   "outputs": [
    {
     "data": {
      "image/png": "[encoded data removed]",
      "text/plain": [
       "<Figure size 640x480 with 1 Axes>"
      ]
     },
     "metadata": {},
     "output_type": "display_data"
    }
   ],
   "source": [
    "x = avg_days['status']\n",
    "y = avg_days['No_of_days']\n",
    "plt.bar(x,y)\n",
    "plt.ylabel('Avg. Days')\n",
    "plt.show()"
   ]
  },
  {
   "cell_type": "markdown",
   "id": "b309a38c",
   "metadata": {},
   "source": [
    "Host is intrest to accpect the guest who stays less than 5 days."
   ]
  },
  {
   "cell_type": "code",
   "execution_count": 34,
   "id": "441013b0",
   "metadata": {},
   "outputs": [
    {
     "name": "stdout",
     "output_type": "stream",
     "text": [
      "<class 'pandas.core.frame.DataFrame'>\n",
      "RangeIndex: 7823 entries, 0 to 7822\n",
      "Data columns (total 14 columns):\n",
      " #   Column           Non-Null Count  Dtype         \n",
      "---  ------           --------------  -----         \n",
      " 0   id_guest         7823 non-null   object        \n",
      " 1   id_host          7823 non-null   object        \n",
      " 2   id_listing       7823 non-null   object        \n",
      " 3   ts_contact_at    7823 non-null   datetime64[ns]\n",
      " 4   ts_reply_at      7219 non-null   datetime64[ns]\n",
      " 5   ts_accepted_at   3627 non-null   datetime64[ns]\n",
      " 6   ts_booking_at    2174 non-null   datetime64[ns]\n",
      " 7   ds_checkin       7823 non-null   datetime64[ns]\n",
      " 8   ds_checkout      7823 non-null   datetime64[ns]\n",
      " 9   n_guests         7823 non-null   int64         \n",
      " 10  n_messages       7823 non-null   int64         \n",
      " 11  status           7823 non-null   object        \n",
      " 12  Time_taken_rply  7219 non-null   float64       \n",
      " 13  No_of_days       7823 non-null   float64       \n",
      "dtypes: datetime64[ns](6), float64(2), int64(2), object(4)\n",
      "memory usage: 855.8+ KB\n"
     ]
    }
   ],
   "source": [
    "df.info()"
   ]
  },
  {
   "cell_type": "code",
   "execution_count": 35,
   "id": "09e11be8",
   "metadata": {},
   "outputs": [
    {
     "data": {
      "text/plain": [
       "n_guests            2.441468\n",
       "n_messages          3.696440\n",
       "Time_taken_rply    17.282051\n",
       "No_of_days         13.765022\n",
       "dtype: float64"
      ]
     },
     "execution_count": 35,
     "metadata": {},
     "output_type": "execute_result"
    }
   ],
   "source": [
    "df.skew(axis = 0 , numeric_only= True , skipna = True)"
   ]
  },
  {
   "cell_type": "code",
   "execution_count": 36,
   "id": "154e2f19",
   "metadata": {},
   "outputs": [
    {
     "data": {
      "image/png": "[encoded data removed]",
      "text/plain": [
       "<Figure size 614.75x500 with 1 Axes>"
      ]
     },
     "metadata": {},
     "output_type": "display_data"
    }
   ],
   "source": [
    "# No of Guests stayed\n",
    "contacts_less8 = df[df['n_guests'] < 8]\n",
    "sns.displot(contacts_less8 , x = 'n_guests' , hue = 'status' , multiple = 'dodge')\n",
    "plt.show()"
   ]
  },
  {
   "cell_type": "markdown",
   "id": "5bda18fa",
   "metadata": {},
   "source": [
    "Choosing less than 8 guests, since only 1.46% (1 14 values) of the contacts dataset has 8 or more guests. To better visualize the majority distribution we removed rows with 8 or more guests.\n",
    "\n",
    "2 guests is the most popular option to book, but 1 guest is the most popularly searched option. This leads me to believe there is a lack of supply of viable single guest rooms."
   ]
  },
  {
   "cell_type": "code",
   "execution_count": 37,
   "id": "317ff05d",
   "metadata": {},
   "outputs": [
    {
     "data": {
      "text/plain": [
       "0.5993934381031155"
      ]
     },
     "execution_count": 37,
     "metadata": {},
     "output_type": "execute_result"
    }
   ],
   "source": [
    "#Conversion rate from accepting to booking\n",
    "df['ts_booking_at'].count() / df['ts_accepted_at'].count()"
   ]
  },
  {
   "cell_type": "code",
   "execution_count": 38,
   "id": "c78ed606",
   "metadata": {},
   "outputs": [],
   "source": [
    "df['month_checkin'] = df['ds_checkin'].dt.month\n",
    "contacts_checkin_month = df[df['month_checkin'] > 9] # use only peak season month (oct , nov , dec)"
   ]
  },
  {
   "cell_type": "code",
   "execution_count": 39,
   "id": "9babcc1c",
   "metadata": {},
   "outputs": [
    {
     "data": {
      "image/png": "[encoded data removed]",
      "text/plain": [
       "<Figure size 614.75x500 with 1 Axes>"
      ]
     },
     "metadata": {},
     "output_type": "display_data"
    }
   ],
   "source": [
    "sns.displot(contacts_checkin_month, x = 'month_checkin' , hue = 'status' , multiple = 'dodge')\n",
    "plt.xticks([10,11,12])\n",
    "plt.show()"
   ]
  }
 ],
 "metadata": {
  "kernelspec": {
   "display_name": "Python 3 (ipykernel)",
   "language": "python",
   "name": "python3"
  },
  "language_info": {
   "codemirror_mode": {
    "name": "ipython",
    "version": 3
   },
   "file_extension": ".py",
   "mimetype": "text/x-python",
   "name": "python",
   "nbconvert_exporter": "python",
   "pygments_lexer": "ipython3",
   "version": "3.10.9"
  }
 },
 "nbformat": 4,
 "nbformat_minor": 5
}
