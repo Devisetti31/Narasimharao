{
 "cells": [
  {
   "cell_type": "code",
   "execution_count": 1,
   "id": "fa6352d0",
   "metadata": {},
   "outputs": [],
   "source": [
    "import numpy as np\n",
    "import pandas as pd\n",
    "import matplotlib.pyplot as plt\n",
    "import seaborn as sns\n",
    "import scipy as s\n",
    "from scipy import stats as ss"
   ]
  },
  {
   "cell_type": "code",
   "execution_count": 2,
   "id": "d46c03d6",
   "metadata": {},
   "outputs": [],
   "source": [
    "df = pd.read_csv('searches.tsv', sep = \"\\t\")"
   ]
  },
  {
   "cell_type": "code",
   "execution_count": 3,
   "id": "e7edb792",
   "metadata": {},
   "outputs": [
    {
     "data": {
      "text/html": [
       "<div>\n",
       "<style scoped>\n",
       "    .dataframe tbody tr th:only-of-type {\n",
       "        vertical-align: middle;\n",
       "    }\n",
       "\n",
       "    .dataframe tbody tr th {\n",
       "        vertical-align: top;\n",
       "    }\n",
       "\n",
       "    .dataframe thead th {\n",
       "        text-align: right;\n",
       "    }\n",
       "</style>\n",
       "<table border=\"1\" class=\"dataframe\">\n",
       "  <thead>\n",
       "    <tr style=\"text-align: right;\">\n",
       "      <th></th>\n",
       "      <th>ds</th>\n",
       "      <th>id_user</th>\n",
       "      <th>ds_checkin</th>\n",
       "      <th>ds_checkout</th>\n",
       "      <th>n_searches</th>\n",
       "      <th>n_nights</th>\n",
       "      <th>n_guests_min</th>\n",
       "      <th>n_guests_max</th>\n",
       "      <th>origin_country</th>\n",
       "      <th>filter_price_min</th>\n",
       "      <th>filter_price_max</th>\n",
       "      <th>filter_room_types</th>\n",
       "      <th>filter_neighborhoods</th>\n",
       "    </tr>\n",
       "  </thead>\n",
       "  <tbody>\n",
       "    <tr>\n",
       "      <th>0</th>\n",
       "      <td>2014-10-01</td>\n",
       "      <td>0000af0a-6f26-4233-9832-27efbfb36148</td>\n",
       "      <td>2014-10-09</td>\n",
       "      <td>2014-10-12</td>\n",
       "      <td>16</td>\n",
       "      <td>3.0</td>\n",
       "      <td>2</td>\n",
       "      <td>2</td>\n",
       "      <td>IE</td>\n",
       "      <td>0.0</td>\n",
       "      <td>67.0</td>\n",
       "      <td>,Entire home/apt,Entire home/apt,Private room,...</td>\n",
       "      <td>NaN</td>\n",
       "    </tr>\n",
       "    <tr>\n",
       "      <th>1</th>\n",
       "      <td>2014-10-01</td>\n",
       "      <td>0000af0a-6f26-4233-9832-27efbfb36148</td>\n",
       "      <td>2014-10-09</td>\n",
       "      <td>2014-10-19</td>\n",
       "      <td>3</td>\n",
       "      <td>10.0</td>\n",
       "      <td>1</td>\n",
       "      <td>2</td>\n",
       "      <td>IE</td>\n",
       "      <td>0.0</td>\n",
       "      <td>67.0</td>\n",
       "      <td>NaN</td>\n",
       "      <td>NaN</td>\n",
       "    </tr>\n",
       "    <tr>\n",
       "      <th>2</th>\n",
       "      <td>2014-10-01</td>\n",
       "      <td>000cd9d3-e05b-4016-9e09-34a6f8ba2fc5</td>\n",
       "      <td>NaN</td>\n",
       "      <td>NaN</td>\n",
       "      <td>1</td>\n",
       "      <td>NaN</td>\n",
       "      <td>1</td>\n",
       "      <td>1</td>\n",
       "      <td>GB</td>\n",
       "      <td>NaN</td>\n",
       "      <td>NaN</td>\n",
       "      <td>NaN</td>\n",
       "      <td>NaN</td>\n",
       "    </tr>\n",
       "    <tr>\n",
       "      <th>3</th>\n",
       "      <td>2014-10-01</td>\n",
       "      <td>000cd9d3-e05b-4016-9e09-34a6f8ba2fc5</td>\n",
       "      <td>2014-11-08</td>\n",
       "      <td>2014-11-10</td>\n",
       "      <td>11</td>\n",
       "      <td>2.0</td>\n",
       "      <td>1</td>\n",
       "      <td>2</td>\n",
       "      <td>GB</td>\n",
       "      <td>NaN</td>\n",
       "      <td>NaN</td>\n",
       "      <td>,Entire home/apt</td>\n",
       "      <td>NaN</td>\n",
       "    </tr>\n",
       "    <tr>\n",
       "      <th>4</th>\n",
       "      <td>2014-10-01</td>\n",
       "      <td>001c04f0-5a94-4ee0-bf5d-3591265256de</td>\n",
       "      <td>NaN</td>\n",
       "      <td>NaN</td>\n",
       "      <td>1</td>\n",
       "      <td>NaN</td>\n",
       "      <td>1</td>\n",
       "      <td>1</td>\n",
       "      <td>IE</td>\n",
       "      <td>NaN</td>\n",
       "      <td>NaN</td>\n",
       "      <td>NaN</td>\n",
       "      <td>NaN</td>\n",
       "    </tr>\n",
       "  </tbody>\n",
       "</table>\n",
       "</div>"
      ],
      "text/plain": [
       "           ds                               id_user  ds_checkin ds_checkout  \\\n",
       "0  2014-10-01  0000af0a-6f26-4233-9832-27efbfb36148  2014-10-09  2014-10-12   \n",
       "1  2014-10-01  0000af0a-6f26-4233-9832-27efbfb36148  2014-10-09  2014-10-19   \n",
       "2  2014-10-01  000cd9d3-e05b-4016-9e09-34a6f8ba2fc5         NaN         NaN   \n",
       "3  2014-10-01  000cd9d3-e05b-4016-9e09-34a6f8ba2fc5  2014-11-08  2014-11-10   \n",
       "4  2014-10-01  001c04f0-5a94-4ee0-bf5d-3591265256de         NaN         NaN   \n",
       "\n",
       "   n_searches  n_nights  n_guests_min  n_guests_max origin_country  \\\n",
       "0          16       3.0             2             2             IE   \n",
       "1           3      10.0             1             2             IE   \n",
       "2           1       NaN             1             1             GB   \n",
       "3          11       2.0             1             2             GB   \n",
       "4           1       NaN             1             1             IE   \n",
       "\n",
       "   filter_price_min  filter_price_max  \\\n",
       "0               0.0              67.0   \n",
       "1               0.0              67.0   \n",
       "2               NaN               NaN   \n",
       "3               NaN               NaN   \n",
       "4               NaN               NaN   \n",
       "\n",
       "                                   filter_room_types filter_neighborhoods  \n",
       "0  ,Entire home/apt,Entire home/apt,Private room,...                  NaN  \n",
       "1                                                NaN                  NaN  \n",
       "2                                                NaN                  NaN  \n",
       "3                                   ,Entire home/apt                  NaN  \n",
       "4                                                NaN                  NaN  "
      ]
     },
     "execution_count": 3,
     "metadata": {},
     "output_type": "execute_result"
    }
   ],
   "source": [
    "df.head()"
   ]
  },
  {
   "cell_type": "code",
   "execution_count": 4,
   "id": "49b4678a",
   "metadata": {},
   "outputs": [
    {
     "name": "stdout",
     "output_type": "stream",
     "text": [
      "<class 'pandas.core.frame.DataFrame'>\n",
      "RangeIndex: 35737 entries, 0 to 35736\n",
      "Data columns (total 13 columns):\n",
      " #   Column                Non-Null Count  Dtype  \n",
      "---  ------                --------------  -----  \n",
      " 0   ds                    35737 non-null  object \n",
      " 1   id_user               35737 non-null  object \n",
      " 2   ds_checkin            23888 non-null  object \n",
      " 3   ds_checkout           23888 non-null  object \n",
      " 4   n_searches            35737 non-null  int64  \n",
      " 5   n_nights              23888 non-null  float64\n",
      " 6   n_guests_min          35737 non-null  int64  \n",
      " 7   n_guests_max          35737 non-null  int64  \n",
      " 8   origin_country        35737 non-null  object \n",
      " 9   filter_price_min      13322 non-null  float64\n",
      " 10  filter_price_max      13322 non-null  float64\n",
      " 11  filter_room_types     16191 non-null  object \n",
      " 12  filter_neighborhoods  1346 non-null   object \n",
      "dtypes: float64(3), int64(3), object(7)\n",
      "memory usage: 3.5+ MB\n"
     ]
    }
   ],
   "source": [
    "df.info()"
   ]
  },
  {
   "cell_type": "code",
   "execution_count": 5,
   "id": "0f795db9",
   "metadata": {},
   "outputs": [],
   "source": [
    "df['filter_room_types'].fillna('Nan' , inplace = True)"
   ]
  },
  {
   "cell_type": "code",
   "execution_count": 6,
   "id": "318c498d",
   "metadata": {},
   "outputs": [],
   "source": [
    "filter_room_types = []\n",
    "for i in df['filter_room_types']:\n",
    "    a = i.split(',')\n",
    "    for j in a:\n",
    "        if j == \"\":\n",
    "            a.remove(j)\n",
    "    filter_room_types.append(list(set(a)))"
   ]
  },
  {
   "cell_type": "code",
   "execution_count": 7,
   "id": "1b636760",
   "metadata": {},
   "outputs": [],
   "source": [
    "df['filter_room_types'] = filter_room_types"
   ]
  },
  {
   "cell_type": "code",
   "execution_count": 8,
   "id": "2629874c",
   "metadata": {},
   "outputs": [
    {
     "data": {
      "text/plain": [
       "[Nan]                                           19546\n",
       "[Entire home/apt]                                9998\n",
       "[Private room]                                   2840\n",
       "[Entire home/apt, Private room]                  2404\n",
       "[Entire home/apt, Private room, Shared room]      460\n",
       "[Private room, Shared room]                       260\n",
       "[Shared room]                                     128\n",
       "[Entire home/apt, Shared room]                    101\n",
       "Name: filter_room_types, dtype: int64"
      ]
     },
     "execution_count": 8,
     "metadata": {},
     "output_type": "execute_result"
    }
   ],
   "source": [
    "df['filter_room_types'].value_counts()"
   ]
  },
  {
   "cell_type": "code",
   "execution_count": 9,
   "id": "0e73872f",
   "metadata": {},
   "outputs": [],
   "source": [
    "def replaceNan(x):\n",
    "    if len(x)>1:\n",
    "        return \",\".join(x)\n",
    "    else:\n",
    "        return x[0]"
   ]
  },
  {
   "cell_type": "code",
   "execution_count": 10,
   "id": "e88a1991",
   "metadata": {},
   "outputs": [],
   "source": [
    "df['filter_room_types'] = df['filter_room_types'].apply(replaceNan)"
   ]
  },
  {
   "cell_type": "code",
   "execution_count": 11,
   "id": "a8355ab5",
   "metadata": {},
   "outputs": [],
   "source": [
    "df['filter_room_types'].replace('Nan' , np.nan , inplace = True)"
   ]
  },
  {
   "cell_type": "code",
   "execution_count": 12,
   "id": "3467dc5b",
   "metadata": {},
   "outputs": [
    {
     "data": {
      "text/plain": [
       "Entire home/apt                             9998\n",
       "Private room                                2840\n",
       "Entire home/apt,Private room                2404\n",
       "Entire home/apt,Private room,Shared room     460\n",
       "Private room,Shared room                     260\n",
       "Shared room                                  128\n",
       "Entire home/apt,Shared room                  101\n",
       "Name: filter_room_types, dtype: int64"
      ]
     },
     "execution_count": 12,
     "metadata": {},
     "output_type": "execute_result"
    }
   ],
   "source": [
    "df['filter_room_types'].value_counts()"
   ]
  },
  {
   "cell_type": "code",
   "execution_count": 13,
   "id": "de0b03f5",
   "metadata": {},
   "outputs": [],
   "source": [
    "df['filter_neighborhoods'].fillna('Nan' , inplace = True)"
   ]
  },
  {
   "cell_type": "code",
   "execution_count": 14,
   "id": "4a216a46",
   "metadata": {},
   "outputs": [],
   "source": [
    "filter_neighborhoods = []\n",
    "for i in df['filter_neighborhoods']:\n",
    "    a = i.split(',')\n",
    "    for j in a:\n",
    "        if j == \"\":\n",
    "            a.remove(j)\n",
    "    filter_neighborhoods.append(a[0])"
   ]
  },
  {
   "cell_type": "code",
   "execution_count": 15,
   "id": "22a12e91",
   "metadata": {},
   "outputs": [],
   "source": [
    "df['filter_neighborhoods'] = filter_neighborhoods"
   ]
  },
  {
   "cell_type": "code",
   "execution_count": 16,
   "id": "823d6e34",
   "metadata": {},
   "outputs": [
    {
     "data": {
      "text/plain": [
       "Nan                       34391\n",
       "City Centre                1049\n",
       "Temple Bar                   52\n",
       "Ballsbridge                  46\n",
       "Old City                     27\n",
       "Docklands                    27\n",
       "Ranelagh and Rathmines       26\n",
       "Blackrock                    11\n",
       "Kilmainham                    9\n",
       "Donnybrook                    8\n",
       "Name: filter_neighborhoods, dtype: int64"
      ]
     },
     "execution_count": 16,
     "metadata": {},
     "output_type": "execute_result"
    }
   ],
   "source": [
    "df['filter_neighborhoods'].value_counts().head(10)"
   ]
  },
  {
   "cell_type": "code",
   "execution_count": 17,
   "id": "d80e8017",
   "metadata": {},
   "outputs": [],
   "source": [
    "df['filter_neighborhoods'].replace('Nan' , np.nan , inplace = True)"
   ]
  },
  {
   "cell_type": "code",
   "execution_count": 18,
   "id": "abe7b40d",
   "metadata": {},
   "outputs": [],
   "source": [
    "to_datetime = ['ds','ds_checkin','ds_checkout']"
   ]
  },
  {
   "cell_type": "code",
   "execution_count": 19,
   "id": "cd31b999",
   "metadata": {},
   "outputs": [],
   "source": [
    "for i in to_datetime:\n",
    "    df[i] = pd.to_datetime(df[i])"
   ]
  },
  {
   "cell_type": "code",
   "execution_count": 20,
   "id": "dcfc090b",
   "metadata": {},
   "outputs": [],
   "source": [
    "df['id_user'] = df['id_user'].str.upper()"
   ]
  },
  {
   "cell_type": "code",
   "execution_count": 21,
   "id": "aebde0ef",
   "metadata": {},
   "outputs": [
    {
     "name": "stdout",
     "output_type": "stream",
     "text": [
      "<class 'pandas.core.frame.DataFrame'>\n",
      "RangeIndex: 35737 entries, 0 to 35736\n",
      "Data columns (total 13 columns):\n",
      " #   Column                Non-Null Count  Dtype         \n",
      "---  ------                --------------  -----         \n",
      " 0   ds                    35737 non-null  datetime64[ns]\n",
      " 1   id_user               35737 non-null  object        \n",
      " 2   ds_checkin            23888 non-null  datetime64[ns]\n",
      " 3   ds_checkout           23888 non-null  datetime64[ns]\n",
      " 4   n_searches            35737 non-null  int64         \n",
      " 5   n_nights              23888 non-null  float64       \n",
      " 6   n_guests_min          35737 non-null  int64         \n",
      " 7   n_guests_max          35737 non-null  int64         \n",
      " 8   origin_country        35737 non-null  object        \n",
      " 9   filter_price_min      13322 non-null  float64       \n",
      " 10  filter_price_max      13322 non-null  float64       \n",
      " 11  filter_room_types     16191 non-null  object        \n",
      " 12  filter_neighborhoods  1346 non-null   object        \n",
      "dtypes: datetime64[ns](3), float64(3), int64(3), object(4)\n",
      "memory usage: 3.5+ MB\n"
     ]
    }
   ],
   "source": [
    "df.info()"
   ]
  },
  {
   "cell_type": "code",
   "execution_count": 22,
   "id": "8bf13551",
   "metadata": {},
   "outputs": [
    {
     "data": {
      "text/html": [
       "<div>\n",
       "<style scoped>\n",
       "    .dataframe tbody tr th:only-of-type {\n",
       "        vertical-align: middle;\n",
       "    }\n",
       "\n",
       "    .dataframe tbody tr th {\n",
       "        vertical-align: top;\n",
       "    }\n",
       "\n",
       "    .dataframe thead th {\n",
       "        text-align: right;\n",
       "    }\n",
       "</style>\n",
       "<table border=\"1\" class=\"dataframe\">\n",
       "  <thead>\n",
       "    <tr style=\"text-align: right;\">\n",
       "      <th></th>\n",
       "      <th>ds</th>\n",
       "      <th>id_user</th>\n",
       "      <th>ds_checkin</th>\n",
       "      <th>ds_checkout</th>\n",
       "      <th>n_searches</th>\n",
       "      <th>n_nights</th>\n",
       "      <th>n_guests_min</th>\n",
       "      <th>n_guests_max</th>\n",
       "      <th>origin_country</th>\n",
       "      <th>filter_price_min</th>\n",
       "      <th>filter_price_max</th>\n",
       "      <th>filter_room_types</th>\n",
       "      <th>filter_neighborhoods</th>\n",
       "    </tr>\n",
       "  </thead>\n",
       "  <tbody>\n",
       "    <tr>\n",
       "      <th>0</th>\n",
       "      <td>2014-10-01</td>\n",
       "      <td>0000AF0A-6F26-4233-9832-27EFBFB36148</td>\n",
       "      <td>2014-10-09</td>\n",
       "      <td>2014-10-12</td>\n",
       "      <td>16</td>\n",
       "      <td>3.0</td>\n",
       "      <td>2</td>\n",
       "      <td>2</td>\n",
       "      <td>IE</td>\n",
       "      <td>0.0</td>\n",
       "      <td>67.0</td>\n",
       "      <td>Entire home/apt,Private room</td>\n",
       "      <td>NaN</td>\n",
       "    </tr>\n",
       "    <tr>\n",
       "      <th>1</th>\n",
       "      <td>2014-10-01</td>\n",
       "      <td>0000AF0A-6F26-4233-9832-27EFBFB36148</td>\n",
       "      <td>2014-10-09</td>\n",
       "      <td>2014-10-19</td>\n",
       "      <td>3</td>\n",
       "      <td>10.0</td>\n",
       "      <td>1</td>\n",
       "      <td>2</td>\n",
       "      <td>IE</td>\n",
       "      <td>0.0</td>\n",
       "      <td>67.0</td>\n",
       "      <td>NaN</td>\n",
       "      <td>NaN</td>\n",
       "    </tr>\n",
       "    <tr>\n",
       "      <th>2</th>\n",
       "      <td>2014-10-01</td>\n",
       "      <td>000CD9D3-E05B-4016-9E09-34A6F8BA2FC5</td>\n",
       "      <td>NaT</td>\n",
       "      <td>NaT</td>\n",
       "      <td>1</td>\n",
       "      <td>NaN</td>\n",
       "      <td>1</td>\n",
       "      <td>1</td>\n",
       "      <td>GB</td>\n",
       "      <td>NaN</td>\n",
       "      <td>NaN</td>\n",
       "      <td>NaN</td>\n",
       "      <td>NaN</td>\n",
       "    </tr>\n",
       "    <tr>\n",
       "      <th>3</th>\n",
       "      <td>2014-10-01</td>\n",
       "      <td>000CD9D3-E05B-4016-9E09-34A6F8BA2FC5</td>\n",
       "      <td>2014-11-08</td>\n",
       "      <td>2014-11-10</td>\n",
       "      <td>11</td>\n",
       "      <td>2.0</td>\n",
       "      <td>1</td>\n",
       "      <td>2</td>\n",
       "      <td>GB</td>\n",
       "      <td>NaN</td>\n",
       "      <td>NaN</td>\n",
       "      <td>Entire home/apt</td>\n",
       "      <td>NaN</td>\n",
       "    </tr>\n",
       "    <tr>\n",
       "      <th>4</th>\n",
       "      <td>2014-10-01</td>\n",
       "      <td>001C04F0-5A94-4EE0-BF5D-3591265256DE</td>\n",
       "      <td>NaT</td>\n",
       "      <td>NaT</td>\n",
       "      <td>1</td>\n",
       "      <td>NaN</td>\n",
       "      <td>1</td>\n",
       "      <td>1</td>\n",
       "      <td>IE</td>\n",
       "      <td>NaN</td>\n",
       "      <td>NaN</td>\n",
       "      <td>NaN</td>\n",
       "      <td>NaN</td>\n",
       "    </tr>\n",
       "  </tbody>\n",
       "</table>\n",
       "</div>"
      ],
      "text/plain": [
       "          ds                               id_user ds_checkin ds_checkout  \\\n",
       "0 2014-10-01  0000AF0A-6F26-4233-9832-27EFBFB36148 2014-10-09  2014-10-12   \n",
       "1 2014-10-01  0000AF0A-6F26-4233-9832-27EFBFB36148 2014-10-09  2014-10-19   \n",
       "2 2014-10-01  000CD9D3-E05B-4016-9E09-34A6F8BA2FC5        NaT         NaT   \n",
       "3 2014-10-01  000CD9D3-E05B-4016-9E09-34A6F8BA2FC5 2014-11-08  2014-11-10   \n",
       "4 2014-10-01  001C04F0-5A94-4EE0-BF5D-3591265256DE        NaT         NaT   \n",
       "\n",
       "   n_searches  n_nights  n_guests_min  n_guests_max origin_country  \\\n",
       "0          16       3.0             2             2             IE   \n",
       "1           3      10.0             1             2             IE   \n",
       "2           1       NaN             1             1             GB   \n",
       "3          11       2.0             1             2             GB   \n",
       "4           1       NaN             1             1             IE   \n",
       "\n",
       "   filter_price_min  filter_price_max             filter_room_types  \\\n",
       "0               0.0              67.0  Entire home/apt,Private room   \n",
       "1               0.0              67.0                           NaN   \n",
       "2               NaN               NaN                           NaN   \n",
       "3               NaN               NaN               Entire home/apt   \n",
       "4               NaN               NaN                           NaN   \n",
       "\n",
       "  filter_neighborhoods  \n",
       "0                  NaN  \n",
       "1                  NaN  \n",
       "2                  NaN  \n",
       "3                  NaN  \n",
       "4                  NaN  "
      ]
     },
     "execution_count": 22,
     "metadata": {},
     "output_type": "execute_result"
    }
   ],
   "source": [
    "df.head()"
   ]
  },
  {
   "cell_type": "code",
   "execution_count": 23,
   "id": "9cac0b78",
   "metadata": {},
   "outputs": [],
   "source": [
    "neighbors_searches = df.groupby('filter_neighborhoods')[['n_searches']].sum().reset_index()"
   ]
  },
  {
   "cell_type": "code",
   "execution_count": 24,
   "id": "09994c08",
   "metadata": {},
   "outputs": [],
   "source": [
    "neighbors_searches = neighbors_searches.sort_values(by = 'n_searches' , ascending = False).head()"
   ]
  },
  {
   "cell_type": "code",
   "execution_count": 25,
   "id": "c7c5c8e6",
   "metadata": {},
   "outputs": [
    {
     "data": {
      "text/html": [
       "<div>\n",
       "<style scoped>\n",
       "    .dataframe tbody tr th:only-of-type {\n",
       "        vertical-align: middle;\n",
       "    }\n",
       "\n",
       "    .dataframe tbody tr th {\n",
       "        vertical-align: top;\n",
       "    }\n",
       "\n",
       "    .dataframe thead th {\n",
       "        text-align: right;\n",
       "    }\n",
       "</style>\n",
       "<table border=\"1\" class=\"dataframe\">\n",
       "  <thead>\n",
       "    <tr style=\"text-align: right;\">\n",
       "      <th></th>\n",
       "      <th>filter_neighborhoods</th>\n",
       "      <th>n_searches</th>\n",
       "    </tr>\n",
       "  </thead>\n",
       "  <tbody>\n",
       "    <tr>\n",
       "      <th>8</th>\n",
       "      <td>City Centre</td>\n",
       "      <td>18819</td>\n",
       "    </tr>\n",
       "    <tr>\n",
       "      <th>3</th>\n",
       "      <td>Ballsbridge</td>\n",
       "      <td>991</td>\n",
       "    </tr>\n",
       "    <tr>\n",
       "      <th>39</th>\n",
       "      <td>Temple Bar</td>\n",
       "      <td>499</td>\n",
       "    </tr>\n",
       "    <tr>\n",
       "      <th>31</th>\n",
       "      <td>Ranelagh and Rathmines</td>\n",
       "      <td>477</td>\n",
       "    </tr>\n",
       "    <tr>\n",
       "      <th>27</th>\n",
       "      <td>Old City</td>\n",
       "      <td>364</td>\n",
       "    </tr>\n",
       "  </tbody>\n",
       "</table>\n",
       "</div>"
      ],
      "text/plain": [
       "      filter_neighborhoods  n_searches\n",
       "8              City Centre       18819\n",
       "3              Ballsbridge         991\n",
       "39              Temple Bar         499\n",
       "31  Ranelagh and Rathmines         477\n",
       "27                Old City         364"
      ]
     },
     "execution_count": 25,
     "metadata": {},
     "output_type": "execute_result"
    }
   ],
   "source": [
    "neighbors_searches"
   ]
  },
  {
   "cell_type": "code",
   "execution_count": 26,
   "id": "c9ad0b06",
   "metadata": {},
   "outputs": [
    {
     "data": {
      "image/png": "[encoded data removed]",
      "text/plain": [
       "<Figure size 640x480 with 1 Axes>"
      ]
     },
     "metadata": {},
     "output_type": "display_data"
    }
   ],
   "source": [
    "sns.barplot(x = 'filter_neighborhoods' , y = 'n_searches' , data = neighbors_searches)\n",
    "plt.xticks(rotation = 60)\n",
    "plt.show()"
   ]
  },
  {
   "cell_type": "code",
   "execution_count": 27,
   "id": "b166fb8c",
   "metadata": {},
   "outputs": [],
   "source": [
    "roomtypes_searches = df.groupby('filter_room_types')[['n_searches']].count().reset_index()"
   ]
  },
  {
   "cell_type": "code",
   "execution_count": 28,
   "id": "1c044a30",
   "metadata": {},
   "outputs": [],
   "source": [
    "roomtypes_searches = roomtypes_searches.sort_values(by = 'n_searches' , ascending = False).head()"
   ]
  },
  {
   "cell_type": "code",
   "execution_count": 29,
   "id": "b2300420",
   "metadata": {},
   "outputs": [
    {
     "data": {
      "text/html": [
       "<div>\n",
       "<style scoped>\n",
       "    .dataframe tbody tr th:only-of-type {\n",
       "        vertical-align: middle;\n",
       "    }\n",
       "\n",
       "    .dataframe tbody tr th {\n",
       "        vertical-align: top;\n",
       "    }\n",
       "\n",
       "    .dataframe thead th {\n",
       "        text-align: right;\n",
       "    }\n",
       "</style>\n",
       "<table border=\"1\" class=\"dataframe\">\n",
       "  <thead>\n",
       "    <tr style=\"text-align: right;\">\n",
       "      <th></th>\n",
       "      <th>filter_room_types</th>\n",
       "      <th>n_searches</th>\n",
       "    </tr>\n",
       "  </thead>\n",
       "  <tbody>\n",
       "    <tr>\n",
       "      <th>0</th>\n",
       "      <td>Entire home/apt</td>\n",
       "      <td>9998</td>\n",
       "    </tr>\n",
       "    <tr>\n",
       "      <th>4</th>\n",
       "      <td>Private room</td>\n",
       "      <td>2840</td>\n",
       "    </tr>\n",
       "    <tr>\n",
       "      <th>1</th>\n",
       "      <td>Entire home/apt,Private room</td>\n",
       "      <td>2404</td>\n",
       "    </tr>\n",
       "    <tr>\n",
       "      <th>2</th>\n",
       "      <td>Entire home/apt,Private room,Shared room</td>\n",
       "      <td>460</td>\n",
       "    </tr>\n",
       "    <tr>\n",
       "      <th>5</th>\n",
       "      <td>Private room,Shared room</td>\n",
       "      <td>260</td>\n",
       "    </tr>\n",
       "  </tbody>\n",
       "</table>\n",
       "</div>"
      ],
      "text/plain": [
       "                          filter_room_types  n_searches\n",
       "0                           Entire home/apt        9998\n",
       "4                              Private room        2840\n",
       "1              Entire home/apt,Private room        2404\n",
       "2  Entire home/apt,Private room,Shared room         460\n",
       "5                  Private room,Shared room         260"
      ]
     },
     "execution_count": 29,
     "metadata": {},
     "output_type": "execute_result"
    }
   ],
   "source": [
    "roomtypes_searches"
   ]
  },
  {
   "cell_type": "code",
   "execution_count": 30,
   "id": "c4529fef",
   "metadata": {},
   "outputs": [
    {
     "data": {
      "image/png": "[encoded data removed]",
      "text/plain": [
       "<Figure size 640x480 with 1 Axes>"
      ]
     },
     "metadata": {},
     "output_type": "display_data"
    }
   ],
   "source": [
    "sns.barplot(x = 'filter_room_types' , y = 'n_searches' , data = roomtypes_searches)\n",
    "plt.xticks(rotation = 90)\n",
    "plt.show()"
   ]
  },
  {
   "cell_type": "markdown",
   "id": "a8150692",
   "metadata": {},
   "source": [
    "Most of the room types requested were entire home/apt and private rooms sometimes shared rooms.If given more time,I would have cleaned this column since most filter values are repeated within the same cell. On the Airbnb website, there are only 4 values in the type of place:\n",
    "\n",
    "•\tEntire Place\n",
    "\n",
    "•\tPrivate Room\n",
    "\n",
    "•\tHotel Room\n",
    "\n",
    "•\tShared Room\n",
    "\n",
    "So searching how often these 4 strings occur would be how I go about it."
   ]
  },
  {
   "cell_type": "code",
   "execution_count": 31,
   "id": "2f1b7e76",
   "metadata": {},
   "outputs": [],
   "source": [
    "import pycountry\n",
    "def get_country_name(country_code):\n",
    "    try:\n",
    "        country = pycountry.countries.get(alpha_2 = country_code)\n",
    "        return country.name\n",
    "    except AttributeError:\n",
    "        return country_code"
   ]
  },
  {
   "cell_type": "code",
   "execution_count": 32,
   "id": "44f1beae",
   "metadata": {},
   "outputs": [],
   "source": [
    "df['origin_country'] = df['origin_country'].apply(get_country_name)"
   ]
  },
  {
   "cell_type": "code",
   "execution_count": 33,
   "id": "a3f4a46e",
   "metadata": {},
   "outputs": [],
   "source": [
    "df.drop(columns=[\"filter_neighborhoods\" ] ,axis = 1, inplace = True)"
   ]
  },
  {
   "cell_type": "code",
   "execution_count": 34,
   "id": "00430940",
   "metadata": {},
   "outputs": [],
   "source": [
    "df['length_preperation'] = df[ 'ds_checkin' ] - df[ 'ds' ]"
   ]
  },
  {
   "cell_type": "markdown",
   "id": "d9d6c433",
   "metadata": {},
   "source": [
    "#### Distributions"
   ]
  },
  {
   "cell_type": "code",
   "execution_count": 35,
   "id": "a0d1b5e7",
   "metadata": {},
   "outputs": [
    {
     "data": {
      "image/png": "[encoded data removed]",
      "text/plain": [
       "<Figure size 500x500 with 1 Axes>"
      ]
     },
     "metadata": {},
     "output_type": "display_data"
    },
    {
     "data": {
      "image/png": "[encoded data removed]",
      "text/plain": [
       "<Figure size 500x500 with 1 Axes>"
      ]
     },
     "metadata": {},
     "output_type": "display_data"
    }
   ],
   "source": [
    "#Distribution plot of n_guests min and n_guests max \n",
    "sns.displot(df, x = \"n_guests_min\") \n",
    "sns.displot(df , x = \"n_guests_max\") \n",
    "plt.show()"
   ]
  },
  {
   "cell_type": "markdown",
   "id": "f5b40f45",
   "metadata": {},
   "source": [
    "Both have similar distributions with 1 being the most popular option and 2 being the next popular option."
   ]
  },
  {
   "cell_type": "code",
   "execution_count": 36,
   "id": "034b1878",
   "metadata": {},
   "outputs": [
    {
     "data": {
      "image/png": "[encoded data removed]",
      "text/plain": [
       "<Figure size 500x500 with 1 Axes>"
      ]
     },
     "metadata": {},
     "output_type": "display_data"
    }
   ],
   "source": [
    "#When were searches conducted\n",
    "ax = sns.displot(df, x = 'ds' , color = 'brown' )\n",
    "plt.xticks(rotation = 90)\n",
    "plt.show()"
   ]
  },
  {
   "cell_type": "markdown",
   "id": "87d4783b",
   "metadata": {},
   "source": [
    "Noticed all date searches were between October 1st to October 14th. No major variation in when search was conducted between these dates."
   ]
  },
  {
   "cell_type": "code",
   "execution_count": 37,
   "id": "a4a3f9f2",
   "metadata": {},
   "outputs": [
    {
     "name": "stdout",
     "output_type": "stream",
     "text": [
      "5.311022189887232 %\n"
     ]
    }
   ],
   "source": [
    "#Percentage of dataset with a  above 600\n",
    "print(len(df[df[ 'filter_price_max' ] > 600]) / len(df['filter_price_max']) * 100 , '%')"
   ]
  },
  {
   "cell_type": "code",
   "execution_count": 38,
   "id": "965f33b3",
   "metadata": {},
   "outputs": [],
   "source": [
    "# Removing the set upper limit \n",
    "searches_maxprice_removed = df[df['filter_price_max'] <= 600]"
   ]
  },
  {
   "cell_type": "code",
   "execution_count": 39,
   "id": "65308eaf",
   "metadata": {},
   "outputs": [
    {
     "data": {
      "image/png": "[encoded data removed]",
      "text/plain": [
       "<Figure size 500x500 with 1 Axes>"
      ]
     },
     "metadata": {},
     "output_type": "display_data"
    }
   ],
   "source": [
    "# Distribution plot of filler_price_max column\n",
    "sns.displot(x = searches_maxprice_removed['filter_price_max'] , color = 'green')\n",
    "plt.show()"
   ]
  },
  {
   "cell_type": "markdown",
   "id": "9747bf65",
   "metadata": {},
   "source": [
    "Filter_price_max was chosen instead of filter_price_min due to the min usually being set at $0\n",
    "\n",
    "To further help better visualize the trend we set the filter price max as less or equal to 600. 600 was chosen as the limit since only 14.25% of the dataset has values greater than 600."
   ]
  },
  {
   "cell_type": "code",
   "execution_count": 40,
   "id": "3284f2e6",
   "metadata": {},
   "outputs": [
    {
     "name": "stdout",
     "output_type": "stream",
     "text": [
      "9.396423874415872 %\n",
      "\n"
     ]
    }
   ],
   "source": [
    "#Distribution of Length_preperation of searches\n",
    "\n",
    "#Percentage of dataset beyond 100 days\n",
    "distribution = df[\"length_preperation\"] / np.timedelta64(1,'D')\n",
    "print(len(distribution[distribution > 100]) / len(distribution) * 100 , '%\\n')"
   ]
  },
  {
   "cell_type": "code",
   "execution_count": 41,
   "id": "c97e864f",
   "metadata": {},
   "outputs": [],
   "source": [
    "# Remove values more than 100 days\n",
    "distribution = distribution[distribution < 100]"
   ]
  },
  {
   "cell_type": "code",
   "execution_count": 42,
   "id": "7ae87b84",
   "metadata": {},
   "outputs": [
    {
     "data": {
      "image/png": "[encoded data removed]",
      "text/plain": [
       "<Figure size 500x500 with 1 Axes>"
      ]
     },
     "metadata": {},
     "output_type": "display_data"
    }
   ],
   "source": [
    "sns.displot(x = distribution )\n",
    "plt.show()"
   ]
  },
  {
   "cell_type": "markdown",
   "id": "3b5e8a3a",
   "metadata": {},
   "source": [
    "100 days was chosen as the limit since only 14.06% of the dataset exists beyond that."
   ]
  },
  {
   "cell_type": "code",
   "execution_count": 43,
   "id": "6427787d",
   "metadata": {},
   "outputs": [
    {
     "name": "stdout",
     "output_type": "stream",
     "text": [
      "4.737387021854101 %\n"
     ]
    }
   ],
   "source": [
    "# Distributions of n_nights of searches\n",
    "\n",
    "# percentage of dataset morethan 20 nights\n",
    "print(len(df[df['n_nights'] > 20]) / len(df['n_nights']) * 100 , '%')"
   ]
  },
  {
   "cell_type": "code",
   "execution_count": 44,
   "id": "893b7ff4",
   "metadata": {},
   "outputs": [],
   "source": [
    "# Remove n_nights morethan 20 nights\n",
    "searches_within_20 = df[df['n_nights'] < 20]"
   ]
  },
  {
   "cell_type": "code",
   "execution_count": 45,
   "id": "7c0eb3e1",
   "metadata": {},
   "outputs": [
    {
     "data": {
      "image/png": "[encoded data removed]",
      "text/plain": [
       "<Figure size 500x500 with 1 Axes>"
      ]
     },
     "metadata": {},
     "output_type": "display_data"
    }
   ],
   "source": [
    "#Distribution plot of n_nights column\n",
    "sns.displot(searches_within_20 , x = 'n_nights' )\n",
    "plt.show()"
   ]
  },
  {
   "cell_type": "markdown",
   "id": "ea6014d3",
   "metadata": {},
   "source": [
    "Removing n_nights beyond 20 days since only 7.3% of the dataset exists beyond 20 days"
   ]
  },
  {
   "cell_type": "code",
   "execution_count": 46,
   "id": "cdfe6283",
   "metadata": {},
   "outputs": [],
   "source": [
    "# Distribution of months of ds_checkin of searches\n",
    "checkin_month = pd.DatetimeIndex(df['ds_checkin']).month"
   ]
  },
  {
   "cell_type": "code",
   "execution_count": 47,
   "id": "3e6f4372",
   "metadata": {},
   "outputs": [
    {
     "data": {
      "image/png": "[encoded data removed]",
      "text/plain": [
       "<Figure size 500x500 with 1 Axes>"
      ]
     },
     "metadata": {},
     "output_type": "display_data"
    }
   ],
   "source": [
    "# Distribution plot ds_checkin column\n",
    "sns.displot(checkin_month)\n",
    "plt.show()"
   ]
  },
  {
   "cell_type": "markdown",
   "id": "33e47070",
   "metadata": {},
   "source": [
    "Used only the check-in month, cause checkout is usually within 5/6 days. The mean of n_nights after removing the upper outlier limit is 5.6, so assumed 5 or 6 days after the check-in date people usually checkout."
   ]
  },
  {
   "cell_type": "code",
   "execution_count": 48,
   "id": "276f3159",
   "metadata": {},
   "outputs": [],
   "source": [
    "#Find top 15 countries where searches originate from\n",
    "#Group by origin country and finding the count of each country\n",
    "search_origin = df.groupby([\"origin_country\"])[['origin_country']].count()"
   ]
  },
  {
   "cell_type": "code",
   "execution_count": 49,
   "id": "ad7a68f0",
   "metadata": {},
   "outputs": [],
   "source": [
    "search_origin.rename(columns = {'origin_country' : 'count'} , inplace = True)"
   ]
  },
  {
   "cell_type": "code",
   "execution_count": 50,
   "id": "a51a1763",
   "metadata": {},
   "outputs": [],
   "source": [
    "search_origin = search_origin.sort_values(by = 'count' , ascending= False)"
   ]
  },
  {
   "cell_type": "code",
   "execution_count": 51,
   "id": "f0a72d4e",
   "metadata": {},
   "outputs": [
    {
     "data": {
      "text/html": [
       "<div>\n",
       "<style scoped>\n",
       "    .dataframe tbody tr th:only-of-type {\n",
       "        vertical-align: middle;\n",
       "    }\n",
       "\n",
       "    .dataframe tbody tr th {\n",
       "        vertical-align: top;\n",
       "    }\n",
       "\n",
       "    .dataframe thead th {\n",
       "        text-align: right;\n",
       "    }\n",
       "</style>\n",
       "<table border=\"1\" class=\"dataframe\">\n",
       "  <thead>\n",
       "    <tr style=\"text-align: right;\">\n",
       "      <th></th>\n",
       "      <th>count</th>\n",
       "    </tr>\n",
       "    <tr>\n",
       "      <th>origin_country</th>\n",
       "      <th></th>\n",
       "    </tr>\n",
       "  </thead>\n",
       "  <tbody>\n",
       "    <tr>\n",
       "      <th>Ireland</th>\n",
       "      <td>6608</td>\n",
       "    </tr>\n",
       "    <tr>\n",
       "      <th>United States</th>\n",
       "      <td>5811</td>\n",
       "    </tr>\n",
       "    <tr>\n",
       "      <th>United Kingdom</th>\n",
       "      <td>4832</td>\n",
       "    </tr>\n",
       "    <tr>\n",
       "      <th>France</th>\n",
       "      <td>3444</td>\n",
       "    </tr>\n",
       "    <tr>\n",
       "      <th>Italy</th>\n",
       "      <td>2333</td>\n",
       "    </tr>\n",
       "    <tr>\n",
       "      <th>Germany</th>\n",
       "      <td>2170</td>\n",
       "    </tr>\n",
       "    <tr>\n",
       "      <th>Spain</th>\n",
       "      <td>1759</td>\n",
       "    </tr>\n",
       "    <tr>\n",
       "      <th>Canada</th>\n",
       "      <td>1085</td>\n",
       "    </tr>\n",
       "    <tr>\n",
       "      <th>Australia</th>\n",
       "      <td>962</td>\n",
       "    </tr>\n",
       "    <tr>\n",
       "      <th>Netherlands</th>\n",
       "      <td>843</td>\n",
       "    </tr>\n",
       "    <tr>\n",
       "      <th>Brazil</th>\n",
       "      <td>636</td>\n",
       "    </tr>\n",
       "    <tr>\n",
       "      <th>Switzerland</th>\n",
       "      <td>535</td>\n",
       "    </tr>\n",
       "    <tr>\n",
       "      <th>Belgium</th>\n",
       "      <td>386</td>\n",
       "    </tr>\n",
       "    <tr>\n",
       "      <th>Austria</th>\n",
       "      <td>320</td>\n",
       "    </tr>\n",
       "    <tr>\n",
       "      <th>Russian Federation</th>\n",
       "      <td>274</td>\n",
       "    </tr>\n",
       "  </tbody>\n",
       "</table>\n",
       "</div>"
      ],
      "text/plain": [
       "                    count\n",
       "origin_country           \n",
       "Ireland              6608\n",
       "United States        5811\n",
       "United Kingdom       4832\n",
       "France               3444\n",
       "Italy                2333\n",
       "Germany              2170\n",
       "Spain                1759\n",
       "Canada               1085\n",
       "Australia             962\n",
       "Netherlands           843\n",
       "Brazil                636\n",
       "Switzerland           535\n",
       "Belgium               386\n",
       "Austria               320\n",
       "Russian Federation    274"
      ]
     },
     "execution_count": 51,
     "metadata": {},
     "output_type": "execute_result"
    }
   ],
   "source": [
    "search_origin.head(15)"
   ]
  }
 ],
 "metadata": {
  "kernelspec": {
   "display_name": "Python 3 (ipykernel)",
   "language": "python",
   "name": "python3"
  },
  "language_info": {
   "codemirror_mode": {
    "name": "ipython",
    "version": 3
   },
   "file_extension": ".py",
   "mimetype": "text/x-python",
   "name": "python",
   "nbconvert_exporter": "python",
   "pygments_lexer": "ipython3",
   "version": "3.10.9"
  }
 },
 "nbformat": 4,
 "nbformat_minor": 5
}
