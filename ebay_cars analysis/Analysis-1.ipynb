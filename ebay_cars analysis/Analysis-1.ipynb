{
 "cells": [
  {
   "cell_type": "code",
   "execution_count": 2,
   "metadata": {},
   "outputs": [],
   "source": [
    "import numpy as np\n",
    "import pandas as pd\n",
    "import matplotlib.pyplot as plt\n",
    "import seaborn as sns\n",
    "import scipy as s\n",
    "from scipy import stats as ss"
   ]
  },
  {
   "cell_type": "code",
   "execution_count": 3,
   "metadata": {},
   "outputs": [
    {
     "data": {
      "text/html": [
       "<div>\n",
       "<style scoped>\n",
       "    .dataframe tbody tr th:only-of-type {\n",
       "        vertical-align: middle;\n",
       "    }\n",
       "\n",
       "    .dataframe tbody tr th {\n",
       "        vertical-align: top;\n",
       "    }\n",
       "\n",
       "    .dataframe thead th {\n",
       "        text-align: right;\n",
       "    }\n",
       "</style>\n",
       "<table border=\"1\" class=\"dataframe\">\n",
       "  <thead>\n",
       "    <tr style=\"text-align: right;\">\n",
       "      <th></th>\n",
       "      <th>dateCrawled</th>\n",
       "      <th>name</th>\n",
       "      <th>seller</th>\n",
       "      <th>offerType</th>\n",
       "      <th>price</th>\n",
       "      <th>abtest</th>\n",
       "      <th>vehicleType</th>\n",
       "      <th>yearOfRegistration</th>\n",
       "      <th>gearbox</th>\n",
       "      <th>powerPS</th>\n",
       "      <th>model</th>\n",
       "      <th>kilometer</th>\n",
       "      <th>monthOfRegistration</th>\n",
       "      <th>fuelType</th>\n",
       "      <th>brand</th>\n",
       "      <th>notRepairedDamage</th>\n",
       "      <th>dateCreated</th>\n",
       "      <th>nrOfPictures</th>\n",
       "      <th>postalCode</th>\n",
       "      <th>lastSeen</th>\n",
       "    </tr>\n",
       "  </thead>\n",
       "  <tbody>\n",
       "    <tr>\n",
       "      <td>0</td>\n",
       "      <td>2016-03-24 11:52:17</td>\n",
       "      <td>Golf_3_1.6</td>\n",
       "      <td>Privat</td>\n",
       "      <td>Angebot</td>\n",
       "      <td>480</td>\n",
       "      <td>Test</td>\n",
       "      <td>Limousine</td>\n",
       "      <td>1993</td>\n",
       "      <td>Manuell</td>\n",
       "      <td>0</td>\n",
       "      <td>Golf</td>\n",
       "      <td>150000</td>\n",
       "      <td>3</td>\n",
       "      <td>Benzin</td>\n",
       "      <td>Volkswagen</td>\n",
       "      <td>Nein</td>\n",
       "      <td>2016-03-24 00:00:00</td>\n",
       "      <td>0</td>\n",
       "      <td>70435</td>\n",
       "      <td>2016-04-07 03:16:57</td>\n",
       "    </tr>\n",
       "    <tr>\n",
       "      <td>1</td>\n",
       "      <td>2016-03-24 10:58:45</td>\n",
       "      <td>A5_sportback_2.7_tdi</td>\n",
       "      <td>Privat</td>\n",
       "      <td>Angebot</td>\n",
       "      <td>18300</td>\n",
       "      <td>Test</td>\n",
       "      <td>Coupe</td>\n",
       "      <td>2011</td>\n",
       "      <td>Manuell</td>\n",
       "      <td>190</td>\n",
       "      <td>A4</td>\n",
       "      <td>125000</td>\n",
       "      <td>5</td>\n",
       "      <td>Diesel</td>\n",
       "      <td>Audi</td>\n",
       "      <td>Ja</td>\n",
       "      <td>2016-03-24 00:00:00</td>\n",
       "      <td>0</td>\n",
       "      <td>66954</td>\n",
       "      <td>2016-04-07 01:46:50</td>\n",
       "    </tr>\n",
       "    <tr>\n",
       "      <td>2</td>\n",
       "      <td>2016-03-14 12:52:21</td>\n",
       "      <td>Jeep_grand_cherokee_\"overland\"</td>\n",
       "      <td>Privat</td>\n",
       "      <td>Angebot</td>\n",
       "      <td>9800</td>\n",
       "      <td>Test</td>\n",
       "      <td>Suv</td>\n",
       "      <td>2004</td>\n",
       "      <td>Automatik</td>\n",
       "      <td>163</td>\n",
       "      <td>Grand</td>\n",
       "      <td>125000</td>\n",
       "      <td>8</td>\n",
       "      <td>Diesel</td>\n",
       "      <td>Jeep</td>\n",
       "      <td>Nein</td>\n",
       "      <td>2016-03-14 00:00:00</td>\n",
       "      <td>0</td>\n",
       "      <td>90480</td>\n",
       "      <td>2016-04-05 12:47:46</td>\n",
       "    </tr>\n",
       "    <tr>\n",
       "      <td>3</td>\n",
       "      <td>2016-03-17 16:54:04</td>\n",
       "      <td>Golf_4_1_4__3türer</td>\n",
       "      <td>Privat</td>\n",
       "      <td>Angebot</td>\n",
       "      <td>1500</td>\n",
       "      <td>Test</td>\n",
       "      <td>Kleinwagen</td>\n",
       "      <td>2001</td>\n",
       "      <td>Manuell</td>\n",
       "      <td>75</td>\n",
       "      <td>Golf</td>\n",
       "      <td>150000</td>\n",
       "      <td>6</td>\n",
       "      <td>Benzin</td>\n",
       "      <td>Volkswagen</td>\n",
       "      <td>Nein</td>\n",
       "      <td>2016-03-17 00:00:00</td>\n",
       "      <td>0</td>\n",
       "      <td>91074</td>\n",
       "      <td>2016-03-17 17:40:17</td>\n",
       "    </tr>\n",
       "    <tr>\n",
       "      <td>4</td>\n",
       "      <td>2016-03-31 17:25:20</td>\n",
       "      <td>Skoda_fabia_1.4_tdi_pd_classic</td>\n",
       "      <td>Privat</td>\n",
       "      <td>Angebot</td>\n",
       "      <td>3600</td>\n",
       "      <td>Test</td>\n",
       "      <td>Kleinwagen</td>\n",
       "      <td>2008</td>\n",
       "      <td>Manuell</td>\n",
       "      <td>69</td>\n",
       "      <td>Fabia</td>\n",
       "      <td>90000</td>\n",
       "      <td>7</td>\n",
       "      <td>Diesel</td>\n",
       "      <td>Skoda</td>\n",
       "      <td>Nein</td>\n",
       "      <td>2016-03-31 00:00:00</td>\n",
       "      <td>0</td>\n",
       "      <td>60437</td>\n",
       "      <td>2016-04-06 10:17:21</td>\n",
       "    </tr>\n",
       "    <tr>\n",
       "      <td>...</td>\n",
       "      <td>...</td>\n",
       "      <td>...</td>\n",
       "      <td>...</td>\n",
       "      <td>...</td>\n",
       "      <td>...</td>\n",
       "      <td>...</td>\n",
       "      <td>...</td>\n",
       "      <td>...</td>\n",
       "      <td>...</td>\n",
       "      <td>...</td>\n",
       "      <td>...</td>\n",
       "      <td>...</td>\n",
       "      <td>...</td>\n",
       "      <td>...</td>\n",
       "      <td>...</td>\n",
       "      <td>...</td>\n",
       "      <td>...</td>\n",
       "      <td>...</td>\n",
       "      <td>...</td>\n",
       "      <td>...</td>\n",
       "    </tr>\n",
       "    <tr>\n",
       "      <td>367537</td>\n",
       "      <td>2016-03-21 09:50:58</td>\n",
       "      <td>Mitsubishi_cold</td>\n",
       "      <td>Privat</td>\n",
       "      <td>Angebot</td>\n",
       "      <td>0</td>\n",
       "      <td>Control</td>\n",
       "      <td>Limousine</td>\n",
       "      <td>2005</td>\n",
       "      <td>Manuell</td>\n",
       "      <td>0</td>\n",
       "      <td>Colt</td>\n",
       "      <td>150000</td>\n",
       "      <td>7</td>\n",
       "      <td>Benzin</td>\n",
       "      <td>Mitsubishi</td>\n",
       "      <td>Ja</td>\n",
       "      <td>2016-03-21 00:00:00</td>\n",
       "      <td>0</td>\n",
       "      <td>2694</td>\n",
       "      <td>2016-03-21 10:42:49</td>\n",
       "    </tr>\n",
       "    <tr>\n",
       "      <td>367538</td>\n",
       "      <td>2016-03-05 19:56:21</td>\n",
       "      <td>Smart_smart_leistungssteigerung_100ps</td>\n",
       "      <td>Privat</td>\n",
       "      <td>Angebot</td>\n",
       "      <td>1199</td>\n",
       "      <td>Test</td>\n",
       "      <td>Cabrio</td>\n",
       "      <td>2000</td>\n",
       "      <td>Automatik</td>\n",
       "      <td>101</td>\n",
       "      <td>Fortwo</td>\n",
       "      <td>125000</td>\n",
       "      <td>3</td>\n",
       "      <td>Benzin</td>\n",
       "      <td>Smart</td>\n",
       "      <td>Nein</td>\n",
       "      <td>2016-03-05 00:00:00</td>\n",
       "      <td>0</td>\n",
       "      <td>26135</td>\n",
       "      <td>2016-03-11 18:17:12</td>\n",
       "    </tr>\n",
       "    <tr>\n",
       "      <td>367539</td>\n",
       "      <td>2016-03-19 18:57:12</td>\n",
       "      <td>Volkswagen_multivan_t4_tdi_7dc_uy2</td>\n",
       "      <td>Privat</td>\n",
       "      <td>Angebot</td>\n",
       "      <td>9200</td>\n",
       "      <td>Test</td>\n",
       "      <td>Bus</td>\n",
       "      <td>1996</td>\n",
       "      <td>Manuell</td>\n",
       "      <td>102</td>\n",
       "      <td>Transporter</td>\n",
       "      <td>150000</td>\n",
       "      <td>3</td>\n",
       "      <td>Diesel</td>\n",
       "      <td>Volkswagen</td>\n",
       "      <td>Nein</td>\n",
       "      <td>2016-03-19 00:00:00</td>\n",
       "      <td>0</td>\n",
       "      <td>87439</td>\n",
       "      <td>2016-04-07 07:15:26</td>\n",
       "    </tr>\n",
       "    <tr>\n",
       "      <td>367540</td>\n",
       "      <td>2016-03-20 19:41:08</td>\n",
       "      <td>Vw_golf_kombi_1_9l_tdi</td>\n",
       "      <td>Privat</td>\n",
       "      <td>Angebot</td>\n",
       "      <td>3400</td>\n",
       "      <td>Test</td>\n",
       "      <td>Kombi</td>\n",
       "      <td>2002</td>\n",
       "      <td>Manuell</td>\n",
       "      <td>100</td>\n",
       "      <td>Golf</td>\n",
       "      <td>150000</td>\n",
       "      <td>6</td>\n",
       "      <td>Diesel</td>\n",
       "      <td>Volkswagen</td>\n",
       "      <td>Nein</td>\n",
       "      <td>2016-03-20 00:00:00</td>\n",
       "      <td>0</td>\n",
       "      <td>40764</td>\n",
       "      <td>2016-03-24 12:45:21</td>\n",
       "    </tr>\n",
       "    <tr>\n",
       "      <td>367541</td>\n",
       "      <td>2016-03-07 19:39:19</td>\n",
       "      <td>Bmw_m135i_vollausgestattet_np_52.720____euro</td>\n",
       "      <td>Privat</td>\n",
       "      <td>Angebot</td>\n",
       "      <td>28990</td>\n",
       "      <td>Control</td>\n",
       "      <td>Limousine</td>\n",
       "      <td>2013</td>\n",
       "      <td>Manuell</td>\n",
       "      <td>320</td>\n",
       "      <td>M_reihe</td>\n",
       "      <td>50000</td>\n",
       "      <td>8</td>\n",
       "      <td>Benzin</td>\n",
       "      <td>Bmw</td>\n",
       "      <td>Nein</td>\n",
       "      <td>2016-03-07 00:00:00</td>\n",
       "      <td>0</td>\n",
       "      <td>73326</td>\n",
       "      <td>2016-03-22 03:17:10</td>\n",
       "    </tr>\n",
       "  </tbody>\n",
       "</table>\n",
       "<p>367542 rows × 20 columns</p>\n",
       "</div>"
      ],
      "text/plain": [
       "                dateCrawled                                          name  \\\n",
       "0       2016-03-24 11:52:17                                    Golf_3_1.6   \n",
       "1       2016-03-24 10:58:45                          A5_sportback_2.7_tdi   \n",
       "2       2016-03-14 12:52:21                Jeep_grand_cherokee_\"overland\"   \n",
       "3       2016-03-17 16:54:04                            Golf_4_1_4__3türer   \n",
       "4       2016-03-31 17:25:20                Skoda_fabia_1.4_tdi_pd_classic   \n",
       "...                     ...                                           ...   \n",
       "367537  2016-03-21 09:50:58                               Mitsubishi_cold   \n",
       "367538  2016-03-05 19:56:21         Smart_smart_leistungssteigerung_100ps   \n",
       "367539  2016-03-19 18:57:12            Volkswagen_multivan_t4_tdi_7dc_uy2   \n",
       "367540  2016-03-20 19:41:08                        Vw_golf_kombi_1_9l_tdi   \n",
       "367541  2016-03-07 19:39:19  Bmw_m135i_vollausgestattet_np_52.720____euro   \n",
       "\n",
       "        seller offerType  price   abtest vehicleType  yearOfRegistration  \\\n",
       "0       Privat   Angebot    480     Test   Limousine                1993   \n",
       "1       Privat   Angebot  18300     Test       Coupe                2011   \n",
       "2       Privat   Angebot   9800     Test         Suv                2004   \n",
       "3       Privat   Angebot   1500     Test  Kleinwagen                2001   \n",
       "4       Privat   Angebot   3600     Test  Kleinwagen                2008   \n",
       "...        ...       ...    ...      ...         ...                 ...   \n",
       "367537  Privat   Angebot      0  Control   Limousine                2005   \n",
       "367538  Privat   Angebot   1199     Test      Cabrio                2000   \n",
       "367539  Privat   Angebot   9200     Test         Bus                1996   \n",
       "367540  Privat   Angebot   3400     Test       Kombi                2002   \n",
       "367541  Privat   Angebot  28990  Control   Limousine                2013   \n",
       "\n",
       "          gearbox  powerPS        model  kilometer  monthOfRegistration  \\\n",
       "0         Manuell        0         Golf     150000                    3   \n",
       "1         Manuell      190           A4     125000                    5   \n",
       "2       Automatik      163        Grand     125000                    8   \n",
       "3         Manuell       75         Golf     150000                    6   \n",
       "4         Manuell       69        Fabia      90000                    7   \n",
       "...           ...      ...          ...        ...                  ...   \n",
       "367537    Manuell        0         Colt     150000                    7   \n",
       "367538  Automatik      101       Fortwo     125000                    3   \n",
       "367539    Manuell      102  Transporter     150000                    3   \n",
       "367540    Manuell      100         Golf     150000                    6   \n",
       "367541    Manuell      320      M_reihe      50000                    8   \n",
       "\n",
       "       fuelType       brand notRepairedDamage          dateCreated  \\\n",
       "0        Benzin  Volkswagen              Nein  2016-03-24 00:00:00   \n",
       "1        Diesel        Audi                Ja  2016-03-24 00:00:00   \n",
       "2        Diesel        Jeep              Nein  2016-03-14 00:00:00   \n",
       "3        Benzin  Volkswagen              Nein  2016-03-17 00:00:00   \n",
       "4        Diesel       Skoda              Nein  2016-03-31 00:00:00   \n",
       "...         ...         ...               ...                  ...   \n",
       "367537   Benzin  Mitsubishi                Ja  2016-03-21 00:00:00   \n",
       "367538   Benzin       Smart              Nein  2016-03-05 00:00:00   \n",
       "367539   Diesel  Volkswagen              Nein  2016-03-19 00:00:00   \n",
       "367540   Diesel  Volkswagen              Nein  2016-03-20 00:00:00   \n",
       "367541   Benzin         Bmw              Nein  2016-03-07 00:00:00   \n",
       "\n",
       "        nrOfPictures  postalCode             lastSeen  \n",
       "0                  0       70435  2016-04-07 03:16:57  \n",
       "1                  0       66954  2016-04-07 01:46:50  \n",
       "2                  0       90480  2016-04-05 12:47:46  \n",
       "3                  0       91074  2016-03-17 17:40:17  \n",
       "4                  0       60437  2016-04-06 10:17:21  \n",
       "...              ...         ...                  ...  \n",
       "367537             0        2694  2016-03-21 10:42:49  \n",
       "367538             0       26135  2016-03-11 18:17:12  \n",
       "367539             0       87439  2016-04-07 07:15:26  \n",
       "367540             0       40764  2016-03-24 12:45:21  \n",
       "367541             0       73326  2016-03-22 03:17:10  \n",
       "\n",
       "[367542 rows x 20 columns]"
      ]
     },
     "execution_count": 3,
     "metadata": {},
     "output_type": "execute_result"
    }
   ],
   "source": [
    "df=pd.read_csv('after_cleaning_autos_file.csv')\n",
    "df"
   ]
  },
  {
   "cell_type": "code",
   "execution_count": 4,
   "metadata": {},
   "outputs": [
    {
     "data": {
      "text/plain": [
       "dateCrawled            0\n",
       "name                   0\n",
       "seller                 0\n",
       "offerType              0\n",
       "price                  0\n",
       "abtest                 0\n",
       "vehicleType            0\n",
       "yearOfRegistration     0\n",
       "gearbox                0\n",
       "powerPS                0\n",
       "model                  0\n",
       "kilometer              0\n",
       "monthOfRegistration    0\n",
       "fuelType               0\n",
       "brand                  0\n",
       "notRepairedDamage      0\n",
       "dateCreated            0\n",
       "nrOfPictures           0\n",
       "postalCode             0\n",
       "lastSeen               0\n",
       "dtype: int64"
      ]
     },
     "execution_count": 4,
     "metadata": {},
     "output_type": "execute_result"
    }
   ],
   "source": [
    "df.isnull().sum()"
   ]
  },
  {
   "cell_type": "code",
   "execution_count": null,
   "metadata": {},
   "outputs": [],
   "source": []
  },
  {
   "cell_type": "markdown",
   "metadata": {},
   "source": [
    "#### 1) Perform general Data analysis\n",
    " "
   ]
  },
  {
   "cell_type": "markdown",
   "metadata": {},
   "source": [
    "Performing general data analysis involves several steps.Those are,\n",
    "\n",
    "1.Data Collection:\n",
    "\n",
    "        -Obtain the dataset from a reliable source. This could be in the form of a CSV file.\n",
    "2.Data Cleaning:\n",
    "\n",
    "         - Check for missing values,inconsistencies in the data.\n",
    "         - Handle missing data through imputation or removal.\n",
    "         - Standardize data formats.\n",
    "3.Exploratory Data Analysis (EDA):\n",
    "\n",
    "         - Visualize the data using graphs, histograms, box plots, scatter plots etc.,\n",
    "         - to understand the distribution,relationships and patterns.\n",
    "         - Calculate summary statistics (mean, median, standard deviation, etc.) to describe the data.\n",
    "4.Reporting:\n",
    "\n",
    "         - Communicate the findings effectively, using visualizations, reports, or presentations."
   ]
  },
  {
   "cell_type": "markdown",
   "metadata": {},
   "source": [
    "#### 2)Can you tell me the Distribution of Vehicles based on Year of Registration with the help of a plot"
   ]
  },
  {
   "cell_type": "code",
   "execution_count": 5,
   "metadata": {},
   "outputs": [
    {
     "data": {
      "image/png": "[encoded data removed]",
      "text/plain": [
       "<Figure size 1440x432 with 1 Axes>"
      ]
     },
     "metadata": {
      "needs_background": "light"
     },
     "output_type": "display_data"
    }
   ],
   "source": [
    "plt.figure(figsize=(20, 6))\n",
    "sns.countplot(data=df, x='yearOfRegistration')\n",
    "plt.title('Distribution of Vehicles based on Year of Registration')\n",
    "plt.xlabel('Year of Registration')\n",
    "plt.ylabel('Number of Vehicles')\n",
    "plt.xticks(rotation=90)  # Rotate x-labels for better readability\n",
    "plt.show()"
   ]
  },
  {
   "cell_type": "markdown",
   "metadata": {},
   "source": [
    " #### 3) Create a plot based on the Variation of the price range by the vehicle type"
   ]
  },
  {
   "cell_type": "code",
   "execution_count": 7,
   "metadata": {},
   "outputs": [],
   "source": [
    "vehicle_type_price = df.groupby('vehicleType')['price'].mean()\n",
    "vehicle_type_price=vehicle_type_price.reset_index()\n"
   ]
  },
  {
   "cell_type": "code",
   "execution_count": 9,
   "metadata": {},
   "outputs": [
    {
     "data": {
      "image/png": "[encoded data removed]",
      "text/plain": [
       "<Figure size 720x432 with 1 Axes>"
      ]
     },
     "metadata": {
      "needs_background": "light"
     },
     "output_type": "display_data"
    }
   ],
   "source": [
    "plt.figure(figsize=(10, 6))\n",
    "sns.barplot(y=\"price\",x=\"vehicleType\",data=vehicle_type_price)\n",
    "plt.xlabel('Vehicle Type')\n",
    "plt.ylabel('Price Range')\n",
    "plt.title('Variation of Price Range by Vehicle Type')\n",
    "plt.xticks(rotation=90)  # Rotate x-axis labels for readability\n",
    "plt.show()"
   ]
  },
  {
   "cell_type": "code",
   "execution_count": 12,
   "metadata": {},
   "outputs": [
    {
     "data": {
      "image/png": "[encoded data removed]",
      "text/plain": [
       "<Figure size 432x288 with 1 Axes>"
      ]
     },
     "metadata": {},
     "output_type": "display_data"
    }
   ],
   "source": [
    "plt.pie(vehicle_type_price.price, labels=vehicle_type_price.vehicleType,autopct='%1.2f%%',radius=2)\n",
    "plt.show()"
   ]
  },
  {
   "cell_type": "markdown",
   "metadata": {},
   "source": [
    "####   4) Find out Total count of vehicles by type available on ebay for sale.As well as create a visualization for the client"
   ]
  },
  {
   "cell_type": "code",
   "execution_count": 10,
   "metadata": {},
   "outputs": [
    {
     "data": {
      "text/plain": [
       "Limousine     114818\n",
       "Kleinwagen     95859\n",
       "Kombi          68065\n",
       "Bus            30129\n",
       "Cabrio         22504\n",
       "Coupe          18567\n",
       "Suv            14510\n",
       "Andere          3090\n",
       "Name: vehicleType, dtype: int64"
      ]
     },
     "execution_count": 10,
     "metadata": {},
     "output_type": "execute_result"
    }
   ],
   "source": [
    "df.vehicleType.value_counts()"
   ]
  },
  {
   "cell_type": "code",
   "execution_count": 12,
   "metadata": {},
   "outputs": [
    {
     "data": {
      "image/png": "[encoded data removed]",
      "text/plain": [
       "<Figure size 432x288 with 1 Axes>"
      ]
     },
     "metadata": {
      "needs_background": "light"
     },
     "output_type": "display_data"
    }
   ],
   "source": [
    "sns.countplot(data=df, x='vehicleType')\n",
    "plt.title('Number of Vehicles based on VehicleType')\n",
    "plt.xlabel('VehicleType')\n",
    "plt.ylabel('Number of Vehicles')\n",
    "plt.show()"
   ]
  },
  {
   "cell_type": "markdown",
   "metadata": {},
   "source": [
    "  #### 5) Is there any relationship between dollar_price and kilometer? (Explain with appropriate analysis)"
   ]
  },
  {
   "cell_type": "code",
   "execution_count": 13,
   "metadata": {},
   "outputs": [
    {
     "data": {
      "text/plain": [
       "-0.007683223435759035"
      ]
     },
     "execution_count": 13,
     "metadata": {},
     "output_type": "execute_result"
    }
   ],
   "source": [
    "correlation = df['price'].corr(df['kilometer'])\n",
    "correlation"
   ]
  },
  {
   "cell_type": "code",
   "execution_count": 15,
   "metadata": {},
   "outputs": [
    {
     "data": {
      "image/png": "[encoded data removed]",
      "text/plain": [
       "<Figure size 432x288 with 1 Axes>"
      ]
     },
     "metadata": {
      "needs_background": "light"
     },
     "output_type": "display_data"
    }
   ],
   "source": [
    "sns.scatterplot(x='kilometer', y='price', data=df)\n",
    "plt.show()"
   ]
  },
  {
   "cell_type": "markdown",
   "metadata": {},
   "source": [
    "I can calculates the correlation coefficient between 'price' and 'kilometer'. The correlation value ranges from -1 to 1, \n",
    "\n",
    "where:\n",
    "\n",
    "     - If the value is close to 1, it indicates a strong positive correlation.\n",
    "     - If the value is close to -1, it indicates a strong negative correlation.\n",
    "     - If the value is close to 0, it indicates no correlation.\n",
    "     \n",
    "The scatter plot visualizes the relationship between the two variables. If the points on the plot show a clear pattern, it suggests a relationship between the 'price' and 'kilometer'.\n",
    "\n",
    "finally caluculated correlation coefficient is -0.0076 (approximately),then we will clarify that it indicates no correlation between \"price\" and \"kilometer\",because correlation coefficient is close to the 0."
   ]
  },
  {
   "cell_type": "code",
   "execution_count": null,
   "metadata": {},
   "outputs": [],
   "source": []
  }
 ],
 "metadata": {
  "kernelspec": {
   "display_name": "Python 3",
   "language": "python",
   "name": "python3"
  },
  "language_info": {
   "codemirror_mode": {
    "name": "ipython",
    "version": 3
   },
   "file_extension": ".py",
   "mimetype": "text/x-python",
   "name": "python",
   "nbconvert_exporter": "python",
   "pygments_lexer": "ipython3",
   "version": "3.7.4"
  }
 },
 "nbformat": 4,
 "nbformat_minor": 2
}
